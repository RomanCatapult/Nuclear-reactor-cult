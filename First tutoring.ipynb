{
 "cells": [
  {
   "cell_type": "markdown",
   "metadata": {},
   "source": [
    "# First tutoring 01/04/2025"
   ]
  },
  {
   "cell_type": "code",
   "execution_count": 19,
   "metadata": {},
   "outputs": [],
   "source": [
    "import numpy as np\n",
    "import matplotlib.pyplot as plt\n",
    "import pandas as pd\n",
    "import sympy as sp\n",
    "from scipy import integrate"
   ]
  },
  {
   "cell_type": "markdown",
   "metadata": {},
   "source": [
    "Variable definition"
   ]
  },
  {
   "cell_type": "code",
   "execution_count": 105,
   "metadata": {},
   "outputs": [
    {
     "name": "stdout",
     "output_type": "stream",
     "text": [
      "Variable       Type     Data/Info\n",
      "---------------------------------\n",
      "BE             float    1.9474400000000003\n",
      "BE_nuc         float    7.558501500000001\n",
      "amu            float    240.052\n",
      "compound_amu   float    241.06065999999998\n",
      "conv_factor    float    931.5\n",
      "m_n            float    1.00866\n",
      "m_p            float    1.00782\n",
      "variable       float    6.5\n"
     ]
    }
   ],
   "source": [
    "variable = 6.5\n",
    "type (variable)\n",
    "\n",
    "%whos float  #gives indications over what variable is of a certain type"
   ]
  },
  {
   "cell_type": "markdown",
   "metadata": {},
   "source": [
    "Lists: in python, the first index of a list is 0 and not 1"
   ]
  },
  {
   "cell_type": "code",
   "execution_count": 106,
   "metadata": {},
   "outputs": [
    {
     "data": {
      "text/plain": [
       "5"
      ]
     },
     "execution_count": 106,
     "metadata": {},
     "output_type": "execute_result"
    }
   ],
   "source": [
    "list_variable = [1,2,3,4,5]\n",
    "type(list_variable)\n",
    "list_variable[-1]   #the -1 index gives the last element of the list\n",
    "len (list_variable) #gives the length of the list\n"
   ]
  },
  {
   "cell_type": "code",
   "execution_count": 107,
   "metadata": {},
   "outputs": [
    {
     "data": {
      "text/plain": [
       "[1, 3, 5]"
      ]
     },
     "execution_count": 107,
     "metadata": {},
     "output_type": "execute_result"
    }
   ],
   "source": [
    "list_variable[0:]  # shows the while list\n",
    "list_variable[0:2] # shows the first two elements of the list\n",
    "list_variable[0::2] # shows the first element and then every second element"
   ]
  },
  {
   "cell_type": "markdown",
   "metadata": {},
   "source": [
    "## List of nuclides and their barrier energies"
   ]
  },
  {
   "cell_type": "code",
   "execution_count": 108,
   "metadata": {},
   "outputs": [],
   "source": [
    "nuclides = ['232-Th', '233-Th', '233-U', '234-U', '235-U', '236-U', '238-U', '239-U', '239-Pu', '240-Pu']\n",
    "type(nuclides)\n",
    "barrier_energy = [5.9, 6.5, 5.5, 4.6, 5.75, 5.3, 5.85, 5.5, 5.5, 4.6]\n"
   ]
  },
  {
   "cell_type": "code",
   "execution_count": 109,
   "metadata": {},
   "outputs": [
    {
     "data": {
      "text/plain": [
       "[[5.9, 232.038, 90],\n",
       " [6.5, 233.041, 90],\n",
       " [5.5, 233.04, 92],\n",
       " [4.6, 234.041, 92],\n",
       " [5.75, 235.042, 92],\n",
       " [5.3, 236.043, 92],\n",
       " [5.85, 238.05, 92],\n",
       " [5.5, 239.051, 92],\n",
       " [5.5, 239.051, 94],\n",
       " [4.6, 240.052, 94]]"
      ]
     },
     "execution_count": 109,
     "metadata": {},
     "output_type": "execute_result"
    }
   ],
   "source": [
    "dictionary = {\n",
    "    '232-Th':[5.9,232.038, 90],    #The dictionary is a key-value pair that associates a key (Th-232) with a value (5.9)\n",
    "    '233-Th':[6.5,233.041, 90],   #The value can be anything: a value, a list, a function etc.\n",
    "    '233-U':[5.5, 233.040, 92],   #In this case, the dictionary is a list of lists and not a matrix.\n",
    "    '234-U':[4.6, 234.041, 92],   #We have that the key is the name of the nuclide, the value is a list with the barrier energy, the atomic mass and the atomic number.\n",
    "    '235-U':[5.75, 235.042, 92],\n",
    "    '236-U':[5.3, 236.043, 92],\n",
    "    '238-U':[5.85, 238.050, 92],\n",
    "    '239-U':[5.5, 239.051, 92],\n",
    "    '239-Pu':[5.5, 239.051, 94],\n",
    "    '240-Pu':[4.6, 240.052, 94]\n",
    "}\n",
    "dictionary.items()  #shows the key-value pair\n",
    "dictionary.keys()   #shows the keys\n",
    "dictionary.values() #shows the values\n",
    "list(dictionary.keys()) #transforms the keys into a list\n",
    "list(dictionary.values()) #transforms the values into a list"
   ]
  },
  {
   "cell_type": "markdown",
   "metadata": {},
   "source": [
    "The list() command converts any variable into a string. There are other commands to transform variable types into\n",
    "int, float, etc."
   ]
  },
  {
   "cell_type": "code",
   "execution_count": 110,
   "metadata": {},
   "outputs": [
    {
     "data": {
      "text/plain": [
       "3"
      ]
     },
     "execution_count": 110,
     "metadata": {},
     "output_type": "execute_result"
    }
   ],
   "source": [
    "values = list(dictionary.values())\n",
    "len(values)\n",
    "list1=values[0]\n",
    "len(list1)"
   ]
  },
  {
   "cell_type": "code",
   "execution_count": 111,
   "metadata": {},
   "outputs": [
    {
     "data": {
      "text/plain": [
       "5.9"
      ]
     },
     "execution_count": 111,
     "metadata": {},
     "output_type": "execute_result"
    }
   ],
   "source": [
    "dictionary1  = {\n",
    "    '232-Th':{                    #232-th is the main key, all the other keys are subkeys\n",
    "        'barrier_value':5.9,      #The dictionary can also be a dictionary of dictionaries.\n",
    "        'atomic_mass':232.08,\n",
    "        'Z':90\n",
    "    }\n",
    "}\n",
    "\n",
    "dictionary1.keys()\n",
    "dictionary1['232-Th']                   #this command extracts the dictionary associated with the key '232-Th'\n",
    "dictionary1['232-Th']['barrier_value']  #this command extracts the value associated with the key 'barrier_value' in the dictionary associated with the key '232-Th'\n"
   ]
  },
  {
   "cell_type": "markdown",
   "metadata": {},
   "source": [
    "We now see how to build a dictionary using \"for\" cycles"
   ]
  },
  {
   "cell_type": "code",
   "execution_count": 112,
   "metadata": {},
   "outputs": [
    {
     "name": "stdout",
     "output_type": "stream",
     "text": [
      "[5.9, 6.5, 5.5, 4.6, 5.75, 5.3, 5.85, 5.5, 5.5, 4.6]\n",
      "[232.038, 233.041, 233.04, 234.041, 235.042, 236.043, 238.05, 239.051, 239.051, 240.052]\n",
      "[90, 90, 92, 92, 92, 92, 92, 92, 94, 94]\n"
     ]
    }
   ],
   "source": [
    "values = list(dictionary.values())\n",
    "\n",
    "barrier_values = list()\n",
    "amu_values =[]            # these are three lists containing nothing. The commands below will append values to them\n",
    "z_values = []             # the syntax of the three commands is equivalent\n",
    "\n",
    "\n",
    "values[0][0]    #this extracts the first value of the first dictionary in the list\n",
    "\n",
    "#barrier_values.append(values[0][0])  #this appends the first value of the first dictionary (barrier energy value) in the list to the list barrier_values\n",
    "#amu_values.append(values[0][1])       #this appends the second value of the first dictionary (amu values) in the list to the list amu_values\n",
    "#z_values.append(values[0][2])         #this appends the third value of the first dictionary (atomic number) in the list to the list z_values\n",
    "\n",
    "#the append command adds an element to the end of the list and does not modify the other elements of the list\n",
    "\n",
    "\n",
    "for i in range(0, len(values)):  #this loop will iterate over all the dictionaries in the list values\n",
    "    barrier_values.append(values[i][0])  #this will append the barrier energy value of the i-th dictionary to the list barrier_values\n",
    "    amu_values.append(values[i][1])       #this will append the amu value of the i-th dictionary to the list amu_values\n",
    "    z_values.append(values[i][2])         #this will append the atomic number of the i-th dictionary to the list z_values\n",
    "\n",
    "print(barrier_values)\n",
    "print(amu_values)\n",
    "print(z_values)"
   ]
  },
  {
   "cell_type": "markdown",
   "metadata": {},
   "source": [
    "We create a new dictionary and fill it with the lists we just created"
   ]
  },
  {
   "cell_type": "code",
   "execution_count": 113,
   "metadata": {},
   "outputs": [
    {
     "data": {
      "text/plain": [
       "{'232-Th': {'barrier_value': 5.9, 'atomic_mass': 232.038, 'Z': 90},\n",
       " '233-Th': {'barrier_value': 6.5, 'atomic_mass': 233.041, 'Z': 90},\n",
       " '233-U': {'barrier_value': 5.5, 'atomic_mass': 233.04, 'Z': 92},\n",
       " '234-U': {'barrier_value': 4.6, 'atomic_mass': 234.041, 'Z': 92},\n",
       " '235-U': {'barrier_value': 5.75, 'atomic_mass': 235.042, 'Z': 92},\n",
       " '236-U': {'barrier_value': 5.3, 'atomic_mass': 236.043, 'Z': 92},\n",
       " '238-U': {'barrier_value': 5.85, 'atomic_mass': 238.05, 'Z': 92},\n",
       " '239-U': {'barrier_value': 5.5, 'atomic_mass': 239.051, 'Z': 92},\n",
       " '239-Pu': {'barrier_value': 5.5, 'atomic_mass': 239.051, 'Z': 94},\n",
       " '240-Pu': {'barrier_value': 4.6, 'atomic_mass': 240.052, 'Z': 94}}"
      ]
     },
     "execution_count": 113,
     "metadata": {},
     "output_type": "execute_result"
    }
   ],
   "source": [
    "data = {}\n",
    "\n",
    "for i in range(len(nuclides)):\n",
    "    data[nuclides[i]] = {\n",
    "        'barrier_value': barrier_values[i],\n",
    "        'atomic_mass': amu_values[i],\n",
    "        'Z': z_values[i]\n",
    "    }\n",
    "\n",
    "data"
   ]
  },
  {
   "cell_type": "markdown",
   "metadata": {},
   "source": [
    "### Now we want to compute the binding energy per nucleon for each nuclide\n",
    "\n",
    "$B_e = c^2[Z\\cdot m_p + N\\cdot m_n - amu]$\n",
    "$\\\\ B_e(MeV/nucleon) = B_e\\cdot \\frac{MeV}{A}$\n",
    "\n",
    "$\\\\ amu_{compound} = amu + m_n$\n",
    "$\\\\ LNB_e = amu-amu_{compound} = last\\, neutron\\, binding\\, energy$"
   ]
  },
  {
   "cell_type": "code",
   "execution_count": 114,
   "metadata": {},
   "outputs": [
    {
     "data": {
      "text/plain": [
       "{'232-Th': {'barrier_value': 5.9,\n",
       "  'atomic_mass': 232.038,\n",
       "  'Z': 90,\n",
       "  'BE': 1.8955199999999763,\n",
       "  'BE_nuc': 7.610676206896456,\n",
       "  'compound_amu': 233.04666},\n",
       " '233-Th': {'barrier_value': 6.5,\n",
       "  'atomic_mass': 233.041,\n",
       "  'Z': 90,\n",
       "  'BE': 1.9011799999999823,\n",
       "  'BE_nuc': 7.600640214592204,\n",
       "  'compound_amu': 234.04966},\n",
       " '233-U': {'barrier_value': 5.5,\n",
       "  'atomic_mass': 233.04,\n",
       "  'Z': 92,\n",
       "  'BE': 1.9004999999999939,\n",
       "  'BE_nuc': 7.597921673819718,\n",
       "  'compound_amu': 234.04865999999998},\n",
       " '234-U': {'barrier_value': 4.6,\n",
       "  'atomic_mass': 234.041,\n",
       "  'Z': 92,\n",
       "  'BE': 1.908159999999981,\n",
       "  'BE_nuc': 7.59594461538454,\n",
       "  'compound_amu': 235.04966},\n",
       " '235-U': {'barrier_value': 5.75,\n",
       "  'atomic_mass': 235.042,\n",
       "  'Z': 92,\n",
       "  'BE': 1.915819999999968,\n",
       "  'BE_nuc': 7.593984382978597,\n",
       "  'compound_amu': 236.05066},\n",
       " '236-U': {'barrier_value': 5.3,\n",
       "  'atomic_mass': 236.043,\n",
       "  'Z': 92,\n",
       "  'BE': 1.9234799999999552,\n",
       "  'BE_nuc': 7.5920407627116875,\n",
       "  'compound_amu': 237.05166},\n",
       " '238-U': {'barrier_value': 5.85,\n",
       "  'atomic_mass': 238.05,\n",
       "  'Z': 92,\n",
       "  'BE': 1.9337999999999624,\n",
       "  'BE_nuc': 7.568633193277163,\n",
       "  'compound_amu': 239.05866},\n",
       " '239-U': {'barrier_value': 5.5,\n",
       "  'atomic_mass': 239.051,\n",
       "  'Z': 92,\n",
       "  'BE': 1.941459999999978,\n",
       "  'BE_nuc': 7.566820041840919,\n",
       "  'compound_amu': 240.05965999999998},\n",
       " '239-Pu': {'barrier_value': 5.5,\n",
       "  'atomic_mass': 239.051,\n",
       "  'Z': 94,\n",
       "  'BE': 1.9397799999999847,\n",
       "  'BE_nuc': 7.560272259414167,\n",
       "  'compound_amu': 240.05965999999998},\n",
       " '240-Pu': {'barrier_value': 4.6,\n",
       "  'atomic_mass': 240.052,\n",
       "  'Z': 94,\n",
       "  'BE': 1.9474400000000003,\n",
       "  'BE_nuc': 7.558501500000001,\n",
       "  'compound_amu': 241.06065999999998}}"
      ]
     },
     "execution_count": 114,
     "metadata": {},
     "output_type": "execute_result"
    }
   ],
   "source": [
    "m_n = 1.00866\n",
    "m_p = 1.00782\n",
    "conv_factor = 931.5   #the number needed to go from kg*km^2/s^2 to MeV\n",
    "\n",
    "#We will now cycle over all nuclides\n",
    "for i in range (0,len(nuclides)):\n",
    "\n",
    "    amu = data[nuclides[i]]['atomic_mass']\n",
    "    Z = data[nuclides[i]]['Z']\n",
    "    a = round(amu)\n",
    "    n = a - Z      #number of neutrons\n",
    "\n",
    "    BE = n * m_n + Z * m_p - amu\n",
    "    BE_nuc = BE * (conv_factor / a)\n",
    "    compound_amu = amu + m_n\n",
    "\n",
    "    data[nuclides[i]]['BE'] = BE\n",
    "    data[nuclides[i]]['BE_nuc'] = BE_nuc\n",
    "    data[nuclides[i]]['compound_amu'] = compound_amu\n",
    "\n",
    "data\n"
   ]
  },
  {
   "cell_type": "code",
   "execution_count": 115,
   "metadata": {},
   "outputs": [
    {
     "data": {
      "text/plain": [
       "5.272290000005583"
      ]
     },
     "execution_count": 115,
     "metadata": {},
     "output_type": "execute_result"
    }
   ],
   "source": [
    "data['232-Th']['LNBE'] = conv_factor*(data['232-Th']['compound_amu']-data['233-Th']['atomic_mass'])\n",
    "data['232-Th']['LNBE']"
   ]
  },
  {
   "cell_type": "code",
   "execution_count": 116,
   "metadata": {},
   "outputs": [
    {
     "data": {
      "text/plain": [
       "<matplotlib.collections.PathCollection at 0x26634d397b0>"
      ]
     },
     "execution_count": 116,
     "metadata": {},
     "output_type": "execute_result"
    },
    {
     "data": {
      "image/png": "[encoded data removed]",
      "text/plain": [
       "<Figure size 432x288 with 1 Axes>"
      ]
     },
     "metadata": {
      "needs_background": "light"
     },
     "output_type": "display_data"
    }
   ],
   "source": [
    "plt.scatter(0,data['232-Th']['LNBE'])"
   ]
  },
  {
   "cell_type": "code",
   "execution_count": null,
   "metadata": {},
   "outputs": [
    {
     "data": {
      "image/png": "[encoded data removed]",
      "text/plain": [
       "<Figure size 432x288 with 1 Axes>"
      ]
     },
     "metadata": {
      "needs_background": "light"
     },
     "output_type": "display_data"
    },
    {
     "data": {
      "text/plain": [
       "<Figure size 432x288 with 0 Axes>"
      ]
     },
     "execution_count": 130,
     "metadata": {},
     "output_type": "execute_result"
    },
    {
     "data": {
      "text/plain": [
       "<Figure size 432x288 with 0 Axes>"
      ]
     },
     "metadata": {},
     "output_type": "display_data"
    }
   ],
   "source": [
    "if data['232-Th']['LNBE'] > data['232-Th']['barrier_value']:\n",
    "    barcolor = 'green'\n",
    "    statement = 'LNBE > barrier energy'\n",
    "else:\n",
    "    barcolor = 'red'\n",
    "    statement = 'LNBE < barrier energy'\n",
    "\n",
    "\n",
    "plt.bar('Th-232',data['232-Th']['LNBE'], color=barcolor)\n",
    "plt.title('LNBE')\n",
    "plt.ylabel('E (MeV)')\n",
    "plt.grid()\n",
    "plt.legend([statement])\n",
    "plt.show()"
   ]
  },
  {
   "cell_type": "markdown",
   "metadata": {},
   "source": [
    "We now use the numpy library"
   ]
  },
  {
   "cell_type": "code",
   "execution_count": 137,
   "metadata": {},
   "outputs": [],
   "source": [
    "arr = np.array([0,1,2,3,4])\n",
    "arr.shape  #gives the shape of the array\n",
    "arr.size   #gives the number of elements in the array\n",
    "\n",
    "arr = np.array([       #this gives a 2d matrix which is not a list of lists but a mathematicl element\n",
    "    [1,2,3],\n",
    "    [4,5,6],\n",
    "    [7,8,9]\n",
    "])\n",
    "\n",
    "arr = np.zeros(5)  #this gives a 1d array of zeros (a vector of zeros) with 5 elements\n",
    "arr = np.ones((5,5)) #this gives a 2d array of ones with 5 rows and 5 columns\n",
    "\n",
    "energy = np.arange(0,15,0.001)  #this gives an array of numbers from 0 to 15 with a step of 0.0001\n",
    "energy.shape\n",
    "energy = np.linspace(0,15,1000)  #this gives an array of 1000 numbers divided equally from 0 to 15\n",
    "#arange and linspace give the same result with a different syntax\n"
   ]
  },
  {
   "cell_type": "code",
   "execution_count": 138,
   "metadata": {},
   "outputs": [
    {
     "data": {
      "text/plain": [
       "array([0.00000000e+00, 1.50150150e-08, 3.00300300e-08, 4.50450450e-08,\n",
       "       6.00600601e-08, 7.50750751e-08, 9.00900901e-08, 1.05105105e-07,\n",
       "       1.20120120e-07, 1.35135135e-07, 1.50150150e-07, 1.65165165e-07,\n",
       "       1.80180180e-07, 1.95195195e-07, 2.10210210e-07, 2.25225225e-07,\n",
       "       2.40240240e-07, 2.55255255e-07, 2.70270270e-07, 2.85285285e-07,\n",
       "       3.00300300e-07, 3.15315315e-07, 3.30330330e-07, 3.45345345e-07,\n",
       "       3.60360360e-07, 3.75375375e-07, 3.90390390e-07, 4.05405405e-07,\n",
       "       4.20420420e-07, 4.35435435e-07, 4.50450450e-07, 4.65465465e-07,\n",
       "       4.80480480e-07, 4.95495495e-07, 5.10510511e-07, 5.25525526e-07,\n",
       "       5.40540541e-07, 5.55555556e-07, 5.70570571e-07, 5.85585586e-07,\n",
       "       6.00600601e-07, 6.15615616e-07, 6.30630631e-07, 6.45645646e-07,\n",
       "       6.60660661e-07, 6.75675676e-07, 6.90690691e-07, 7.05705706e-07,\n",
       "       7.20720721e-07, 7.35735736e-07, 7.50750751e-07, 7.65765766e-07,\n",
       "       7.80780781e-07, 7.95795796e-07, 8.10810811e-07, 8.25825826e-07,\n",
       "       8.40840841e-07, 8.55855856e-07, 8.70870871e-07, 8.85885886e-07,\n",
       "       9.00900901e-07, 9.15915916e-07, 9.30930931e-07, 9.45945946e-07,\n",
       "       9.60960961e-07, 9.75975976e-07, 9.90990991e-07, 1.00600601e-06,\n",
       "       1.02102102e-06, 1.03603604e-06, 1.05105105e-06, 1.06606607e-06,\n",
       "       1.08108108e-06, 1.09609610e-06, 1.11111111e-06, 1.12612613e-06,\n",
       "       1.14114114e-06, 1.15615616e-06, 1.17117117e-06, 1.18618619e-06,\n",
       "       1.20120120e-06, 1.21621622e-06, 1.23123123e-06, 1.24624625e-06,\n",
       "       1.26126126e-06, 1.27627628e-06, 1.29129129e-06, 1.30630631e-06,\n",
       "       1.32132132e-06, 1.33633634e-06, 1.35135135e-06, 1.36636637e-06,\n",
       "       1.38138138e-06, 1.39639640e-06, 1.41141141e-06, 1.42642643e-06,\n",
       "       1.44144144e-06, 1.45645646e-06, 1.47147147e-06, 1.48648649e-06,\n",
       "       1.50150150e-06, 1.51651652e-06, 1.53153153e-06, 1.54654655e-06,\n",
       "       1.56156156e-06, 1.57657658e-06, 1.59159159e-06, 1.60660661e-06,\n",
       "       1.62162162e-06, 1.63663664e-06, 1.65165165e-06, 1.66666667e-06,\n",
       "       1.68168168e-06, 1.69669670e-06, 1.71171171e-06, 1.72672673e-06,\n",
       "       1.74174174e-06, 1.75675676e-06, 1.77177177e-06, 1.78678679e-06,\n",
       "       1.80180180e-06, 1.81681682e-06, 1.83183183e-06, 1.84684685e-06,\n",
       "       1.86186186e-06, 1.87687688e-06, 1.89189189e-06, 1.90690691e-06,\n",
       "       1.92192192e-06, 1.93693694e-06, 1.95195195e-06, 1.96696697e-06,\n",
       "       1.98198198e-06, 1.99699700e-06, 2.01201201e-06, 2.02702703e-06,\n",
       "       2.04204204e-06, 2.05705706e-06, 2.07207207e-06, 2.08708709e-06,\n",
       "       2.10210210e-06, 2.11711712e-06, 2.13213213e-06, 2.14714715e-06,\n",
       "       2.16216216e-06, 2.17717718e-06, 2.19219219e-06, 2.20720721e-06,\n",
       "       2.22222222e-06, 2.23723724e-06, 2.25225225e-06, 2.26726727e-06,\n",
       "       2.28228228e-06, 2.29729730e-06, 2.31231231e-06, 2.32732733e-06,\n",
       "       2.34234234e-06, 2.35735736e-06, 2.37237237e-06, 2.38738739e-06,\n",
       "       2.40240240e-06, 2.41741742e-06, 2.43243243e-06, 2.44744745e-06,\n",
       "       2.46246246e-06, 2.47747748e-06, 2.49249249e-06, 2.50750751e-06,\n",
       "       2.52252252e-06, 2.53753754e-06, 2.55255255e-06, 2.56756757e-06,\n",
       "       2.58258258e-06, 2.59759760e-06, 2.61261261e-06, 2.62762763e-06,\n",
       "       2.64264264e-06, 2.65765766e-06, 2.67267267e-06, 2.68768769e-06,\n",
       "       2.70270270e-06, 2.71771772e-06, 2.73273273e-06, 2.74774775e-06,\n",
       "       2.76276276e-06, 2.77777778e-06, 2.79279279e-06, 2.80780781e-06,\n",
       "       2.82282282e-06, 2.83783784e-06, 2.85285285e-06, 2.86786787e-06,\n",
       "       2.88288288e-06, 2.89789790e-06, 2.91291291e-06, 2.92792793e-06,\n",
       "       2.94294294e-06, 2.95795796e-06, 2.97297297e-06, 2.98798799e-06,\n",
       "       3.00300300e-06, 3.01801802e-06, 3.03303303e-06, 3.04804805e-06,\n",
       "       3.06306306e-06, 3.07807808e-06, 3.09309309e-06, 3.10810811e-06,\n",
       "       3.12312312e-06, 3.13813814e-06, 3.15315315e-06, 3.16816817e-06,\n",
       "       3.18318318e-06, 3.19819820e-06, 3.21321321e-06, 3.22822823e-06,\n",
       "       3.24324324e-06, 3.25825826e-06, 3.27327327e-06, 3.28828829e-06,\n",
       "       3.30330330e-06, 3.31831832e-06, 3.33333333e-06, 3.34834835e-06,\n",
       "       3.36336336e-06, 3.37837838e-06, 3.39339339e-06, 3.40840841e-06,\n",
       "       3.42342342e-06, 3.43843844e-06, 3.45345345e-06, 3.46846847e-06,\n",
       "       3.48348348e-06, 3.49849850e-06, 3.51351351e-06, 3.52852853e-06,\n",
       "       3.54354354e-06, 3.55855856e-06, 3.57357357e-06, 3.58858859e-06,\n",
       "       3.60360360e-06, 3.61861862e-06, 3.63363363e-06, 3.64864865e-06,\n",
       "       3.66366366e-06, 3.67867868e-06, 3.69369369e-06, 3.70870871e-06,\n",
       "       3.72372372e-06, 3.73873874e-06, 3.75375375e-06, 3.76876877e-06,\n",
       "       3.78378378e-06, 3.79879880e-06, 3.81381381e-06, 3.82882883e-06,\n",
       "       3.84384384e-06, 3.85885886e-06, 3.87387387e-06, 3.88888889e-06,\n",
       "       3.90390390e-06, 3.91891892e-06, 3.93393393e-06, 3.94894895e-06,\n",
       "       3.96396396e-06, 3.97897898e-06, 3.99399399e-06, 4.00900901e-06,\n",
       "       4.02402402e-06, 4.03903904e-06, 4.05405405e-06, 4.06906907e-06,\n",
       "       4.08408408e-06, 4.09909910e-06, 4.11411411e-06, 4.12912913e-06,\n",
       "       4.14414414e-06, 4.15915916e-06, 4.17417417e-06, 4.18918919e-06,\n",
       "       4.20420420e-06, 4.21921922e-06, 4.23423423e-06, 4.24924925e-06,\n",
       "       4.26426426e-06, 4.27927928e-06, 4.29429429e-06, 4.30930931e-06,\n",
       "       4.32432432e-06, 4.33933934e-06, 4.35435435e-06, 4.36936937e-06,\n",
       "       4.38438438e-06, 4.39939940e-06, 4.41441441e-06, 4.42942943e-06,\n",
       "       4.44444444e-06, 4.45945946e-06, 4.47447447e-06, 4.48948949e-06,\n",
       "       4.50450450e-06, 4.51951952e-06, 4.53453453e-06, 4.54954955e-06,\n",
       "       4.56456456e-06, 4.57957958e-06, 4.59459459e-06, 4.60960961e-06,\n",
       "       4.62462462e-06, 4.63963964e-06, 4.65465465e-06, 4.66966967e-06,\n",
       "       4.68468468e-06, 4.69969970e-06, 4.71471471e-06, 4.72972973e-06,\n",
       "       4.74474474e-06, 4.75975976e-06, 4.77477477e-06, 4.78978979e-06,\n",
       "       4.80480480e-06, 4.81981982e-06, 4.83483483e-06, 4.84984985e-06,\n",
       "       4.86486486e-06, 4.87987988e-06, 4.89489489e-06, 4.90990991e-06,\n",
       "       4.92492492e-06, 4.93993994e-06, 4.95495495e-06, 4.96996997e-06,\n",
       "       4.98498498e-06, 5.00000000e-06, 5.01501502e-06, 5.03003003e-06,\n",
       "       5.04504505e-06, 5.06006006e-06, 5.07507508e-06, 5.09009009e-06,\n",
       "       5.10510511e-06, 5.12012012e-06, 5.13513514e-06, 5.15015015e-06,\n",
       "       5.16516517e-06, 5.18018018e-06, 5.19519520e-06, 5.21021021e-06,\n",
       "       5.22522523e-06, 5.24024024e-06, 5.25525526e-06, 5.27027027e-06,\n",
       "       5.28528529e-06, 5.30030030e-06, 5.31531532e-06, 5.33033033e-06,\n",
       "       5.34534535e-06, 5.36036036e-06, 5.37537538e-06, 5.39039039e-06,\n",
       "       5.40540541e-06, 5.42042042e-06, 5.43543544e-06, 5.45045045e-06,\n",
       "       5.46546547e-06, 5.48048048e-06, 5.49549550e-06, 5.51051051e-06,\n",
       "       5.52552553e-06, 5.54054054e-06, 5.55555556e-06, 5.57057057e-06,\n",
       "       5.58558559e-06, 5.60060060e-06, 5.61561562e-06, 5.63063063e-06,\n",
       "       5.64564565e-06, 5.66066066e-06, 5.67567568e-06, 5.69069069e-06,\n",
       "       5.70570571e-06, 5.72072072e-06, 5.73573574e-06, 5.75075075e-06,\n",
       "       5.76576577e-06, 5.78078078e-06, 5.79579580e-06, 5.81081081e-06,\n",
       "       5.82582583e-06, 5.84084084e-06, 5.85585586e-06, 5.87087087e-06,\n",
       "       5.88588589e-06, 5.90090090e-06, 5.91591592e-06, 5.93093093e-06,\n",
       "       5.94594595e-06, 5.96096096e-06, 5.97597598e-06, 5.99099099e-06,\n",
       "       6.00600601e-06, 6.02102102e-06, 6.03603604e-06, 6.05105105e-06,\n",
       "       6.06606607e-06, 6.08108108e-06, 6.09609610e-06, 6.11111111e-06,\n",
       "       6.12612613e-06, 6.14114114e-06, 6.15615616e-06, 6.17117117e-06,\n",
       "       6.18618619e-06, 6.20120120e-06, 6.21621622e-06, 6.23123123e-06,\n",
       "       6.24624625e-06, 6.26126126e-06, 6.27627628e-06, 6.29129129e-06,\n",
       "       6.30630631e-06, 6.32132132e-06, 6.33633634e-06, 6.35135135e-06,\n",
       "       6.36636637e-06, 6.38138138e-06, 6.39639640e-06, 6.41141141e-06,\n",
       "       6.42642643e-06, 6.44144144e-06, 6.45645646e-06, 6.47147147e-06,\n",
       "       6.48648649e-06, 6.50150150e-06, 6.51651652e-06, 6.53153153e-06,\n",
       "       6.54654655e-06, 6.56156156e-06, 6.57657658e-06, 6.59159159e-06,\n",
       "       6.60660661e-06, 6.62162162e-06, 6.63663664e-06, 6.65165165e-06,\n",
       "       6.66666667e-06, 6.68168168e-06, 6.69669670e-06, 6.71171171e-06,\n",
       "       6.72672673e-06, 6.74174174e-06, 6.75675676e-06, 6.77177177e-06,\n",
       "       6.78678679e-06, 6.80180180e-06, 6.81681682e-06, 6.83183183e-06,\n",
       "       6.84684685e-06, 6.86186186e-06, 6.87687688e-06, 6.89189189e-06,\n",
       "       6.90690691e-06, 6.92192192e-06, 6.93693694e-06, 6.95195195e-06,\n",
       "       6.96696697e-06, 6.98198198e-06, 6.99699700e-06, 7.01201201e-06,\n",
       "       7.02702703e-06, 7.04204204e-06, 7.05705706e-06, 7.07207207e-06,\n",
       "       7.08708709e-06, 7.10210210e-06, 7.11711712e-06, 7.13213213e-06,\n",
       "       7.14714715e-06, 7.16216216e-06, 7.17717718e-06, 7.19219219e-06,\n",
       "       7.20720721e-06, 7.22222222e-06, 7.23723724e-06, 7.25225225e-06,\n",
       "       7.26726727e-06, 7.28228228e-06, 7.29729730e-06, 7.31231231e-06,\n",
       "       7.32732733e-06, 7.34234234e-06, 7.35735736e-06, 7.37237237e-06,\n",
       "       7.38738739e-06, 7.40240240e-06, 7.41741742e-06, 7.43243243e-06,\n",
       "       7.44744745e-06, 7.46246246e-06, 7.47747748e-06, 7.49249249e-06,\n",
       "       7.50750751e-06, 7.52252252e-06, 7.53753754e-06, 7.55255255e-06,\n",
       "       7.56756757e-06, 7.58258258e-06, 7.59759760e-06, 7.61261261e-06,\n",
       "       7.62762763e-06, 7.64264264e-06, 7.65765766e-06, 7.67267267e-06,\n",
       "       7.68768769e-06, 7.70270270e-06, 7.71771772e-06, 7.73273273e-06,\n",
       "       7.74774775e-06, 7.76276276e-06, 7.77777778e-06, 7.79279279e-06,\n",
       "       7.80780781e-06, 7.82282282e-06, 7.83783784e-06, 7.85285285e-06,\n",
       "       7.86786787e-06, 7.88288288e-06, 7.89789790e-06, 7.91291291e-06,\n",
       "       7.92792793e-06, 7.94294294e-06, 7.95795796e-06, 7.97297297e-06,\n",
       "       7.98798799e-06, 8.00300300e-06, 8.01801802e-06, 8.03303303e-06,\n",
       "       8.04804805e-06, 8.06306306e-06, 8.07807808e-06, 8.09309309e-06,\n",
       "       8.10810811e-06, 8.12312312e-06, 8.13813814e-06, 8.15315315e-06,\n",
       "       8.16816817e-06, 8.18318318e-06, 8.19819820e-06, 8.21321321e-06,\n",
       "       8.22822823e-06, 8.24324324e-06, 8.25825826e-06, 8.27327327e-06,\n",
       "       8.28828829e-06, 8.30330330e-06, 8.31831832e-06, 8.33333333e-06,\n",
       "       8.34834835e-06, 8.36336336e-06, 8.37837838e-06, 8.39339339e-06,\n",
       "       8.40840841e-06, 8.42342342e-06, 8.43843844e-06, 8.45345345e-06,\n",
       "       8.46846847e-06, 8.48348348e-06, 8.49849850e-06, 8.51351351e-06,\n",
       "       8.52852853e-06, 8.54354354e-06, 8.55855856e-06, 8.57357357e-06,\n",
       "       8.58858859e-06, 8.60360360e-06, 8.61861862e-06, 8.63363363e-06,\n",
       "       8.64864865e-06, 8.66366366e-06, 8.67867868e-06, 8.69369369e-06,\n",
       "       8.70870871e-06, 8.72372372e-06, 8.73873874e-06, 8.75375375e-06,\n",
       "       8.76876877e-06, 8.78378378e-06, 8.79879880e-06, 8.81381381e-06,\n",
       "       8.82882883e-06, 8.84384384e-06, 8.85885886e-06, 8.87387387e-06,\n",
       "       8.88888889e-06, 8.90390390e-06, 8.91891892e-06, 8.93393393e-06,\n",
       "       8.94894895e-06, 8.96396396e-06, 8.97897898e-06, 8.99399399e-06,\n",
       "       9.00900901e-06, 9.02402402e-06, 9.03903904e-06, 9.05405405e-06,\n",
       "       9.06906907e-06, 9.08408408e-06, 9.09909910e-06, 9.11411411e-06,\n",
       "       9.12912913e-06, 9.14414414e-06, 9.15915916e-06, 9.17417417e-06,\n",
       "       9.18918919e-06, 9.20420420e-06, 9.21921922e-06, 9.23423423e-06,\n",
       "       9.24924925e-06, 9.26426426e-06, 9.27927928e-06, 9.29429429e-06,\n",
       "       9.30930931e-06, 9.32432432e-06, 9.33933934e-06, 9.35435435e-06,\n",
       "       9.36936937e-06, 9.38438438e-06, 9.39939940e-06, 9.41441441e-06,\n",
       "       9.42942943e-06, 9.44444444e-06, 9.45945946e-06, 9.47447447e-06,\n",
       "       9.48948949e-06, 9.50450450e-06, 9.51951952e-06, 9.53453453e-06,\n",
       "       9.54954955e-06, 9.56456456e-06, 9.57957958e-06, 9.59459459e-06,\n",
       "       9.60960961e-06, 9.62462462e-06, 9.63963964e-06, 9.65465465e-06,\n",
       "       9.66966967e-06, 9.68468468e-06, 9.69969970e-06, 9.71471471e-06,\n",
       "       9.72972973e-06, 9.74474474e-06, 9.75975976e-06, 9.77477477e-06,\n",
       "       9.78978979e-06, 9.80480480e-06, 9.81981982e-06, 9.83483483e-06,\n",
       "       9.84984985e-06, 9.86486486e-06, 9.87987988e-06, 9.89489489e-06,\n",
       "       9.90990991e-06, 9.92492492e-06, 9.93993994e-06, 9.95495495e-06,\n",
       "       9.96996997e-06, 9.98498498e-06, 1.00000000e-05, 1.00150150e-05,\n",
       "       1.00300300e-05, 1.00450450e-05, 1.00600601e-05, 1.00750751e-05,\n",
       "       1.00900901e-05, 1.01051051e-05, 1.01201201e-05, 1.01351351e-05,\n",
       "       1.01501502e-05, 1.01651652e-05, 1.01801802e-05, 1.01951952e-05,\n",
       "       1.02102102e-05, 1.02252252e-05, 1.02402402e-05, 1.02552553e-05,\n",
       "       1.02702703e-05, 1.02852853e-05, 1.03003003e-05, 1.03153153e-05,\n",
       "       1.03303303e-05, 1.03453453e-05, 1.03603604e-05, 1.03753754e-05,\n",
       "       1.03903904e-05, 1.04054054e-05, 1.04204204e-05, 1.04354354e-05,\n",
       "       1.04504505e-05, 1.04654655e-05, 1.04804805e-05, 1.04954955e-05,\n",
       "       1.05105105e-05, 1.05255255e-05, 1.05405405e-05, 1.05555556e-05,\n",
       "       1.05705706e-05, 1.05855856e-05, 1.06006006e-05, 1.06156156e-05,\n",
       "       1.06306306e-05, 1.06456456e-05, 1.06606607e-05, 1.06756757e-05,\n",
       "       1.06906907e-05, 1.07057057e-05, 1.07207207e-05, 1.07357357e-05,\n",
       "       1.07507508e-05, 1.07657658e-05, 1.07807808e-05, 1.07957958e-05,\n",
       "       1.08108108e-05, 1.08258258e-05, 1.08408408e-05, 1.08558559e-05,\n",
       "       1.08708709e-05, 1.08858859e-05, 1.09009009e-05, 1.09159159e-05,\n",
       "       1.09309309e-05, 1.09459459e-05, 1.09609610e-05, 1.09759760e-05,\n",
       "       1.09909910e-05, 1.10060060e-05, 1.10210210e-05, 1.10360360e-05,\n",
       "       1.10510511e-05, 1.10660661e-05, 1.10810811e-05, 1.10960961e-05,\n",
       "       1.11111111e-05, 1.11261261e-05, 1.11411411e-05, 1.11561562e-05,\n",
       "       1.11711712e-05, 1.11861862e-05, 1.12012012e-05, 1.12162162e-05,\n",
       "       1.12312312e-05, 1.12462462e-05, 1.12612613e-05, 1.12762763e-05,\n",
       "       1.12912913e-05, 1.13063063e-05, 1.13213213e-05, 1.13363363e-05,\n",
       "       1.13513514e-05, 1.13663664e-05, 1.13813814e-05, 1.13963964e-05,\n",
       "       1.14114114e-05, 1.14264264e-05, 1.14414414e-05, 1.14564565e-05,\n",
       "       1.14714715e-05, 1.14864865e-05, 1.15015015e-05, 1.15165165e-05,\n",
       "       1.15315315e-05, 1.15465465e-05, 1.15615616e-05, 1.15765766e-05,\n",
       "       1.15915916e-05, 1.16066066e-05, 1.16216216e-05, 1.16366366e-05,\n",
       "       1.16516517e-05, 1.16666667e-05, 1.16816817e-05, 1.16966967e-05,\n",
       "       1.17117117e-05, 1.17267267e-05, 1.17417417e-05, 1.17567568e-05,\n",
       "       1.17717718e-05, 1.17867868e-05, 1.18018018e-05, 1.18168168e-05,\n",
       "       1.18318318e-05, 1.18468468e-05, 1.18618619e-05, 1.18768769e-05,\n",
       "       1.18918919e-05, 1.19069069e-05, 1.19219219e-05, 1.19369369e-05,\n",
       "       1.19519520e-05, 1.19669670e-05, 1.19819820e-05, 1.19969970e-05,\n",
       "       1.20120120e-05, 1.20270270e-05, 1.20420420e-05, 1.20570571e-05,\n",
       "       1.20720721e-05, 1.20870871e-05, 1.21021021e-05, 1.21171171e-05,\n",
       "       1.21321321e-05, 1.21471471e-05, 1.21621622e-05, 1.21771772e-05,\n",
       "       1.21921922e-05, 1.22072072e-05, 1.22222222e-05, 1.22372372e-05,\n",
       "       1.22522523e-05, 1.22672673e-05, 1.22822823e-05, 1.22972973e-05,\n",
       "       1.23123123e-05, 1.23273273e-05, 1.23423423e-05, 1.23573574e-05,\n",
       "       1.23723724e-05, 1.23873874e-05, 1.24024024e-05, 1.24174174e-05,\n",
       "       1.24324324e-05, 1.24474474e-05, 1.24624625e-05, 1.24774775e-05,\n",
       "       1.24924925e-05, 1.25075075e-05, 1.25225225e-05, 1.25375375e-05,\n",
       "       1.25525526e-05, 1.25675676e-05, 1.25825826e-05, 1.25975976e-05,\n",
       "       1.26126126e-05, 1.26276276e-05, 1.26426426e-05, 1.26576577e-05,\n",
       "       1.26726727e-05, 1.26876877e-05, 1.27027027e-05, 1.27177177e-05,\n",
       "       1.27327327e-05, 1.27477477e-05, 1.27627628e-05, 1.27777778e-05,\n",
       "       1.27927928e-05, 1.28078078e-05, 1.28228228e-05, 1.28378378e-05,\n",
       "       1.28528529e-05, 1.28678679e-05, 1.28828829e-05, 1.28978979e-05,\n",
       "       1.29129129e-05, 1.29279279e-05, 1.29429429e-05, 1.29579580e-05,\n",
       "       1.29729730e-05, 1.29879880e-05, 1.30030030e-05, 1.30180180e-05,\n",
       "       1.30330330e-05, 1.30480480e-05, 1.30630631e-05, 1.30780781e-05,\n",
       "       1.30930931e-05, 1.31081081e-05, 1.31231231e-05, 1.31381381e-05,\n",
       "       1.31531532e-05, 1.31681682e-05, 1.31831832e-05, 1.31981982e-05,\n",
       "       1.32132132e-05, 1.32282282e-05, 1.32432432e-05, 1.32582583e-05,\n",
       "       1.32732733e-05, 1.32882883e-05, 1.33033033e-05, 1.33183183e-05,\n",
       "       1.33333333e-05, 1.33483483e-05, 1.33633634e-05, 1.33783784e-05,\n",
       "       1.33933934e-05, 1.34084084e-05, 1.34234234e-05, 1.34384384e-05,\n",
       "       1.34534535e-05, 1.34684685e-05, 1.34834835e-05, 1.34984985e-05,\n",
       "       1.35135135e-05, 1.35285285e-05, 1.35435435e-05, 1.35585586e-05,\n",
       "       1.35735736e-05, 1.35885886e-05, 1.36036036e-05, 1.36186186e-05,\n",
       "       1.36336336e-05, 1.36486486e-05, 1.36636637e-05, 1.36786787e-05,\n",
       "       1.36936937e-05, 1.37087087e-05, 1.37237237e-05, 1.37387387e-05,\n",
       "       1.37537538e-05, 1.37687688e-05, 1.37837838e-05, 1.37987988e-05,\n",
       "       1.38138138e-05, 1.38288288e-05, 1.38438438e-05, 1.38588589e-05,\n",
       "       1.38738739e-05, 1.38888889e-05, 1.39039039e-05, 1.39189189e-05,\n",
       "       1.39339339e-05, 1.39489489e-05, 1.39639640e-05, 1.39789790e-05,\n",
       "       1.39939940e-05, 1.40090090e-05, 1.40240240e-05, 1.40390390e-05,\n",
       "       1.40540541e-05, 1.40690691e-05, 1.40840841e-05, 1.40990991e-05,\n",
       "       1.41141141e-05, 1.41291291e-05, 1.41441441e-05, 1.41591592e-05,\n",
       "       1.41741742e-05, 1.41891892e-05, 1.42042042e-05, 1.42192192e-05,\n",
       "       1.42342342e-05, 1.42492492e-05, 1.42642643e-05, 1.42792793e-05,\n",
       "       1.42942943e-05, 1.43093093e-05, 1.43243243e-05, 1.43393393e-05,\n",
       "       1.43543544e-05, 1.43693694e-05, 1.43843844e-05, 1.43993994e-05,\n",
       "       1.44144144e-05, 1.44294294e-05, 1.44444444e-05, 1.44594595e-05,\n",
       "       1.44744745e-05, 1.44894895e-05, 1.45045045e-05, 1.45195195e-05,\n",
       "       1.45345345e-05, 1.45495495e-05, 1.45645646e-05, 1.45795796e-05,\n",
       "       1.45945946e-05, 1.46096096e-05, 1.46246246e-05, 1.46396396e-05,\n",
       "       1.46546547e-05, 1.46696697e-05, 1.46846847e-05, 1.46996997e-05,\n",
       "       1.47147147e-05, 1.47297297e-05, 1.47447447e-05, 1.47597598e-05,\n",
       "       1.47747748e-05, 1.47897898e-05, 1.48048048e-05, 1.48198198e-05,\n",
       "       1.48348348e-05, 1.48498498e-05, 1.48648649e-05, 1.48798799e-05,\n",
       "       1.48948949e-05, 1.49099099e-05, 1.49249249e-05, 1.49399399e-05,\n",
       "       1.49549550e-05, 1.49699700e-05, 1.49849850e-05, 1.50000000e-05])"
      ]
     },
     "execution_count": 138,
     "metadata": {},
     "output_type": "execute_result"
    }
   ],
   "source": [
    "energy* 10**-6  #this multiplies all the elements of the array by 10^-6 (eV to MeV). We cannot do this with lists\n"
   ]
  },
  {
   "cell_type": "markdown",
   "metadata": {},
   "source": [
    "We introduce the watt spectrum, which is the energy spectrum of fission neutrons:\n",
    "$Ce^{-\\frac{E}{a}}sinh(\\sqrt{bE})$"
   ]
  },
  {
   "cell_type": "code",
   "execution_count": null,
   "metadata": {},
   "outputs": [
    {
     "data": {
      "text/plain": [
       "<matplotlib.legend.Legend at 0x2663b9ca5c0>"
      ]
     },
     "execution_count": 160,
     "metadata": {},
     "output_type": "execute_result"
    },
    {
     "data": {
      "image/png": "[encoded data removed]",
      "text/plain": [
       "<Figure size 432x288 with 1 Axes>"
      ]
     },
     "metadata": {
      "needs_background": "light"
     },
     "output_type": "display_data"
    }
   ],
   "source": [
    "C = 1\n",
    "a= [0.96, 0.965, 1.08, 1.08] \n",
    "b= [2.2, 2.29, 2.23, 2.28]\n",
    "\n",
    "phi = np.zeros((len(energy), len(a)))   #phi is a 1000*4 array of zeros\n",
    "\n",
    "for i in range(len(a)):\n",
    "\n",
    "    phi[:,i] = C*np.exp(-energy/a[i])*np.sinh(np.sqrt(b[i]*energy))   #in column i we save the values of the distribution for the i-th value of a and b\n",
    "\n",
    "\n",
    "nuc = ['233-U', '235-U', '238-U', '239-Pu']\n",
    "\n",
    "\n",
    "plt.plot(energy,phi)\n",
    "plt.grid()\n",
    "plt.xlabel('Energy (MeV)')\n",
    "plt.ylabel('Distribution')\n",
    "plt.legend(nuc)"
   ]
  },
  {
   "cell_type": "code",
   "execution_count": 164,
   "metadata": {},
   "outputs": [
    {
     "data": {
      "image/png": "[encoded data removed]",
      "text/plain": [
       "<Figure size 432x288 with 1 Axes>"
      ]
     },
     "metadata": {
      "needs_background": "light"
     },
     "output_type": "display_data"
    }
   ],
   "source": [
    "def spectrum (E, a, b, C):\n",
    "    phi_fun =  C*np.exp(-E/a)*np.sinh(np.sqrt(b*E))\n",
    "    return phi_fun\n",
    "\n",
    "phi_ = spectrum(energy, 0.965, 2.23, 1)\n",
    "phi_norm = spectrum (energy, 0.965, 2.23, 0.453)\n",
    "\n",
    "plt.plot(energy, phi_, label = 'Standard')    #this only plots one of the four spectra\n",
    "plt.plot (energy, phi_norm, label = 'Normalized') #this plots the normalized spectrum\n",
    "plt.ylabel('phi') \n",
    "plt.xlabel('Energy (MeV)')\n",
    "plt.legend() \n",
    "plt.grid()\n",
    "plt.show()"
   ]
  },
  {
   "cell_type": "markdown",
   "metadata": {},
   "source": [
    "# Second tutoring 10/04/2025\n",
    "\n",
    "This time we deal with an actual Maxwellian distribution\n",
    "\n",
    "$p(v) = 4\\pi (\\frac{m}{2\\pi kT})^{\\frac{3}{2}}v^2e^{-\\frac{mv^2}{2kT}}$"
   ]
  },
  {
   "cell_type": "code",
   "execution_count": 4,
   "metadata": {},
   "outputs": [
    {
     "name": "stdout",
     "output_type": "stream",
     "text": [
      "Help on function maxwell_boltzmann in module __main__:\n",
      "\n",
      "maxwell_boltzmann(v, T)\n",
      "    This function calculates the Maxwell-Boltzmann distribution \n",
      "    for a given velocity v(m/s) and temperature T(K).\n",
      "\n"
     ]
    }
   ],
   "source": [
    "k_B = 1.38e-23\n",
    "m_n = 1.67e-27\n",
    "T = 300\n",
    "\n",
    "def maxwell_boltzmann (v,T):\n",
    "    '''This function calculates the Maxwell-Boltzmann distribution \n",
    "    for a given velocity v(m/s) and temperature T(K).'''\n",
    "    global coeff\n",
    "    coeff = (m_n/(2*np.pi*k_B*T))**(3/2)*4*np.pi\n",
    "    exponent = -m_n*v**2/(2*k_B*T)\n",
    "    pv = v**2*coeff*np.exp(exponent)\n",
    "    return pv\n",
    "\n",
    "\n",
    "# We can also use a lambda function to define the same function\n",
    "pv = lambda v,T: (m_n/(2*np.pi*k_B*T))**(3/2)*4*np.pi*v**2*np.exp(-m_n*v**2/(2*k_B*T))\n",
    "\n",
    "''' \n",
    "to use the lambda function we can call it using pv(arguments). \n",
    "The lambda functions are useful only if we have single line functions \n",
    "'''\n",
    "help (maxwell_boltzmann)   # This command gives all the comments written in the function as we can write useful information inside them.\n",
    "\n",
    "\n"
   ]
  },
  {
   "cell_type": "code",
   "execution_count": 11,
   "metadata": {},
   "outputs": [
    {
     "data": {
      "text/plain": [
       "Text(0, 0.5, 'M-B distribution')"
      ]
     },
     "execution_count": 11,
     "metadata": {},
     "output_type": "execute_result"
    },
    {
     "data": {
      "image/png": "[encoded data removed]",
      "text/plain": [
       "<Figure size 432x432 with 1 Axes>"
      ]
     },
     "metadata": {
      "needs_background": "light"
     },
     "output_type": "display_data"
    }
   ],
   "source": [
    "v0=0\n",
    "vf = 10**4\n",
    "dv = 0.1\n",
    "\n",
    "v = np.arange(v0, vf, dv)  #this gives an array of numbers from v0 to vf with a step of dv\n",
    "f = maxwell_boltzmann(v,T)\n",
    "\n",
    "plt.figure(figsize=(6,6))  #With this we set the dimensions of the graph\n",
    "plt.plot(v,f)\n",
    "plt.grid()\n",
    "plt.xlabel('Velocity')\n",
    "plt.ylabel('M-B distribution')"
   ]
  },
  {
   "cell_type": "code",
   "execution_count": null,
   "metadata": {},
   "outputs": [
    {
     "name": "stdout",
     "output_type": "stream",
     "text": [
      "Manual integration: 1.0000000\n",
      "Manual integration: 0.999999990964456\n",
      "Manual integration: 1.000000\n"
     ]
    }
   ],
   "source": [
    "# We want to see that the function is normalized\n",
    "\n",
    "int_rectangles = 0\n",
    "\n",
    "for i in range (len(v)):\n",
    "    f = maxwell_boltzmann(v[i], T)\n",
    "    int_rectangles = int_rectangles+f*dv    # this is a manual method to do an integral\n",
    "\n",
    "error = 1-int_rectangles\n",
    "\n",
    "print(f'Manual integration: {int_rectangles:.7f}')    # This tells python to print the value contained in the variable as a string, the :.7f truncates the output at the seventh decimal digit (f stands for float)\n",
    "print('Manual integration: '+str(int_rectangles))    # This does the same thing by converting a number into a string and printing two strings one after the other\n",
    "print('Manual integration: %f' %int_rectangles)\n",
    "\n"
   ]
  },
  {
   "cell_type": "code",
   "execution_count": null,
   "metadata": {},
   "outputs": [],
   "source": [
    "# We can also compute an integral using libraries (numpy, scipy)\n",
    "# Scipy can do integrals, odes, derivatives, minimum/maximum problems, eigenvalues problems, signal processing, etc\n",
    "\n",
    "# scipy also contains the bessel functions\n",
    "help(integrate)"
   ]
  },
  {
   "cell_type": "code",
   "execution_count": null,
   "metadata": {},
   "outputs": [
    {
     "data": {
      "text/plain": [
       "np.float64(0.9999999909626737)"
      ]
     },
     "execution_count": 23,
     "metadata": {},
     "output_type": "execute_result"
    }
   ],
   "source": [
    "# We use the trapezoidal rule to integrate\n",
    "integrate.trapezoid(maxwell_boltzmann(v,T), v) # The ,v is used to specify the variable of integration"
   ]
  },
  {
   "cell_type": "code",
   "execution_count": null,
   "metadata": {},
   "outputs": [
    {
     "data": {
      "text/plain": [
       "np.float64(9.99999990962674)"
      ]
     },
     "execution_count": 22,
     "metadata": {},
     "output_type": "execute_result"
    }
   ],
   "source": [
    "integrate.simpson(maxwell_boltzmann(v,T))  # this uses the simpson rule to integrate"
   ]
  },
  {
   "cell_type": "code",
   "execution_count": null,
   "metadata": {},
   "outputs": [
    {
     "data": {
      "text/plain": [
       "(0.9999999909662325, 6.775458862853193e-13)"
      ]
     },
     "execution_count": 24,
     "metadata": {},
     "output_type": "execute_result"
    }
   ],
   "source": [
    "integrate.quad(maxwell_boltzmann, v0, vf, args=(T,))    # This method is an iteration method and also gives the difference between the last and second to last cycle\n"
   ]
  },
  {
   "cell_type": "code",
   "execution_count": 32,
   "metadata": {},
   "outputs": [
    {
     "name": "stdout",
     "output_type": "stream",
     "text": [
      "0.0003728495644970491\n",
      "22267\n",
      "2226.7000000000003\n"
     ]
    }
   ],
   "source": [
    "# now we want to compute the max of the distribution\n",
    "\n",
    "max_distr = np.max(maxwell_boltzmann(v,T))\n",
    "print(max_distr)\n",
    "\n",
    "# The corrisponding maximum on the x axis is:\n",
    "max_idx = np.argmax(maxwell_boltzmann(v,T))   # this gives the index on the array of the x axis that corresponds to the maximum on the y axis\n",
    "print(max_idx)\n",
    "print(v[max_idx])  # thus, this is the speed that corresponds to the maximum of the ditribution"
   ]
  },
  {
   "cell_type": "markdown",
   "metadata": {},
   "source": [
    "## We can use gamma functions to compute integrals:\n",
    "\n",
    "$\\Gamma (x) = \\int_{0}^{\\infty}t^{x-1}e^{-t}dt$"
   ]
  },
  {
   "cell_type": "code",
   "execution_count": 40,
   "metadata": {},
   "outputs": [
    {
     "name": "stdout",
     "output_type": "stream",
     "text": [
      "Gamma(0.0):1.0\n",
      "Gamma(0.5):0.8862269254527579\n",
      "Gamma(1.0):1.0\n",
      "Gamma(1.5):1.329340388179137\n",
      "Gamma(2.0):2.0\n",
      "Gamma(2.5):3.323350970447843\n",
      "Gamma(3.0):6.0\n",
      "Gamma(3.5):11.63172839656745\n",
      "Gamma(4.0):24.0\n",
      "Gamma(4.5):52.34277778455352\n"
     ]
    }
   ],
   "source": [
    "from scipy import special    # This has the bessel functions\n",
    "\n",
    "arg = np.arange(0,5,0.5)\n",
    "\n",
    "for i in range(len(arg)):\n",
    "    print(f'Gamma({arg[i]}):{special.gamma(arg[i]+1)}')"
   ]
  },
  {
   "cell_type": "code",
   "execution_count": null,
   "metadata": {},
   "outputs": [
    {
     "data": {
      "image/png": "[encoded data removed]",
      "text/plain": [
       "<Figure size 432x288 with 1 Axes>"
      ]
     },
     "metadata": {
      "needs_background": "light"
     },
     "output_type": "display_data"
    }
   ],
   "source": [
    "x=np.arange(-5, 5, 0.0001)\n",
    "plt.plot(x, special.gamma(x))\n",
    "plt.ylim([-20, 20])\n",
    "plt.grid()\n",
    "plt.axhline(y=0, color='black', linestyle='--')   # This draws a line throughout the entire plot at y=0\n",
    "plt.hlines(y=0, xmin=-5, xmax=5, color='red')    # This only draws a line at y=0 between specified xmin and xmax\n",
    "\n",
    "asymptot_ind=np.where(special.gamma(x)>10e4)    # This gives the x axis indexes that satisfy the condition y>10e4\n",
    "asymptot_val = x[asymptot_ind]\n",
    "\n",
    "for i in range (len(asymptot_val)):\n",
    "    plt.axvline(x=asymptot_val[i], color='red', linestyle='-.')"
   ]
  },
  {
   "cell_type": "code",
   "execution_count": 52,
   "metadata": {},
   "outputs": [
    {
     "data": {
      "text/plain": [
       "<matplotlib.legend.Legend at 0x29d8b781030>"
      ]
     },
     "execution_count": 52,
     "metadata": {},
     "output_type": "execute_result"
    },
    {
     "data": {
      "image/png": "[encoded data removed]",
      "text/plain": [
       "<Figure size 432x288 with 1 Axes>"
      ]
     },
     "metadata": {
      "needs_background": "light"
     },
     "output_type": "display_data"
    }
   ],
   "source": [
    "# What happens of we change the temperature?\n",
    "\n",
    "T = np.array([0, 20, 50, 100, 300])  #celsius\n",
    "T_K = T+273.15\n",
    "\n",
    "for i in range (len(T_K)):\n",
    "    plt.plot(v, maxwell_boltzmann(v,T_K[i]), label=f'T={T[i]}°C')\n",
    "\n",
    "plt.legend()"
   ]
  },
  {
   "cell_type": "code",
   "execution_count": 54,
   "metadata": {},
   "outputs": [
    {
     "name": "stdout",
     "output_type": "stream",
     "text": [
      "Most probable speed at temperature 0°C: 2124.7000000000003m/s\n",
      "Most probable speed at temperature 20°C: 2201.1m/s\n",
      "Most probable speed at temperature 50°C: 2311.0m/s\n",
      "Most probable speed at temperature 100°C: 2483.4m/s\n",
      "Most probable speed at temperature 300°C: 3077.7000000000003m/s\n"
     ]
    }
   ],
   "source": [
    "# How does the most probable v change with T?\n",
    "\n",
    "max_idx=np.zeros_like(T)      #This creates an array of zeros with the same dimension of T\n",
    "\n",
    "for i in range (len(T)):\n",
    "    f=maxwell_boltzmann(v,T_K[i])\n",
    "    max_idx[i]= np.argmax(f)\n",
    "    print(f'Most probable speed at temperature {T[i]}°C: {v[max_idx[i]]}m/s')"
   ]
  },
  {
   "cell_type": "code",
   "execution_count": 56,
   "metadata": {},
   "outputs": [
    {
     "data": {
      "text/plain": [
       "<matplotlib.collections.PathCollection at 0x29d8b6bf190>"
      ]
     },
     "execution_count": 56,
     "metadata": {},
     "output_type": "execute_result"
    },
    {
     "data": {
      "image/png": "[encoded data removed]",
      "text/plain": [
       "<Figure size 360x360 with 1 Axes>"
      ]
     },
     "metadata": {
      "needs_background": "light"
     },
     "output_type": "display_data"
    }
   ],
   "source": [
    "plt.figure(figsize=(5,5))\n",
    "plt.scatter(T, v[max_idx])"
   ]
  },
  {
   "cell_type": "code",
   "execution_count": 59,
   "metadata": {},
   "outputs": [
    {
     "data": {
      "text/plain": [
       "Text(0, 0.5, 'Most probable speed (m/s)')"
      ]
     },
     "execution_count": 59,
     "metadata": {},
     "output_type": "execute_result"
    },
    {
     "data": {
      "image/png": "[encoded data removed]",
      "text/plain": [
       "<Figure size 360x360 with 1 Axes>"
      ]
     },
     "metadata": {
      "needs_background": "light"
     },
     "output_type": "display_data"
    }
   ],
   "source": [
    "T = np.arange(0,1000,1)\n",
    "T_K = T+273.15\n",
    "max_idx=np.zeros_like(T)      #This creates an array of zeros with the same dimension of T\n",
    "\n",
    "for i in range (len(T)):\n",
    "    f=maxwell_boltzmann(v,T_K[i])\n",
    "    max_idx[i]= np.argmax(f)\n",
    "\n",
    "plt.figure(figsize=(5,5))\n",
    "plt.scatter(T, v[max_idx])\n",
    "plt.grid()\n",
    "plt.xlabel('Temperature (°C)')\n",
    "plt.ylabel('Most probable speed (m/s)')"
   ]
  }
 ],
 "metadata": {
  "kernelspec": {
   "display_name": "Python 3",
   "language": "python",
   "name": "python3"
  },
  "language_info": {
   "codemirror_mode": {
    "name": "ipython",
    "version": 3
   },
   "file_extension": ".py",
   "mimetype": "text/x-python",
   "name": "python",
   "nbconvert_exporter": "python",
   "pygments_lexer": "ipython3",
   "version": "3.10.2"
  }
 },
 "nbformat": 4,
 "nbformat_minor": 2
}
