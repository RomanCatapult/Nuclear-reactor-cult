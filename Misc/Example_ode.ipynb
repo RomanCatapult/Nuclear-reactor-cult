{
 "cells": [
  {
   "cell_type": "markdown",
   "metadata": {},
   "source": [
    "# Heat equation\n"
   ]
  },
  {
   "cell_type": "code",
   "execution_count": 1,
   "metadata": {},
   "outputs": [],
   "source": [
    "import numpy as np\n",
    "import matplotlib.pyplot as plt"
   ]
  },
  {
   "cell_type": "markdown",
   "metadata": {},
   "source": [
    "We have a continuous metal rod that we have to discretize. For each discreet point of the rod we will calculate \\\n",
    "the temperature at a certain time and assign it a color gradient."
   ]
  },
  {
   "cell_type": "code",
   "execution_count": 2,
   "metadata": {},
   "outputs": [
    {
     "name": "stdout",
     "output_type": "stream",
     "text": [
      "t: 0.140[s], Average temperature: 44.00 Celsius\n"
     ]
    },
    {
     "data": {
      "image/png": "[encoded data removed]",
      "text/plain": [
       "<Figure size 432x288 with 2 Axes>"
      ]
     },
     "metadata": {
      "needs_background": "light"
     },
     "output_type": "display_data"
    },
    {
     "name": "stdout",
     "output_type": "stream",
     "text": [
      "t: 0.281[s], Average temperature: 48.00 Celsius\n",
      "t: 0.421[s], Average temperature: 52.00 Celsius\n",
      "t: 0.561[s], Average temperature: 55.00 Celsius\n",
      "t: 0.701[s], Average temperature: 58.00 Celsius\n",
      "t: 0.842[s], Average temperature: 60.50 Celsius\n",
      "t: 0.982[s], Average temperature: 63.00 Celsius\n",
      "t: 1.122[s], Average temperature: 65.19 Celsius\n",
      "t: 1.263[s], Average temperature: 67.34 Celsius\n",
      "t: 1.403[s], Average temperature: 69.28 Celsius\n",
      "t: 1.543[s], Average temperature: 71.16 Celsius\n",
      "t: 1.684[s], Average temperature: 72.88 Celsius\n",
      "t: 1.824[s], Average temperature: 74.54 Celsius\n",
      "t: 1.964[s], Average temperature: 76.06 Celsius\n",
      "t: 2.104[s], Average temperature: 77.51 Celsius\n",
      "t: 2.245[s], Average temperature: 78.86 Celsius\n",
      "t: 2.385[s], Average temperature: 80.14 Celsius\n",
      "t: 2.525[s], Average temperature: 81.33 Celsius\n",
      "t: 2.666[s], Average temperature: 82.46 Celsius\n",
      "t: 2.806[s], Average temperature: 83.52 Celsius\n",
      "t: 2.946[s], Average temperature: 84.51 Celsius\n",
      "t: 3.086[s], Average temperature: 85.45 Celsius\n",
      "t: 3.227[s], Average temperature: 86.33 Celsius\n",
      "t: 3.367[s], Average temperature: 87.15 Celsius\n",
      "t: 3.507[s], Average temperature: 87.93 Celsius\n",
      "t: 3.648[s], Average temperature: 88.65 Celsius\n",
      "t: 3.788[s], Average temperature: 89.34 Celsius\n",
      "t: 3.928[s], Average temperature: 89.98 Celsius\n",
      "t: 4.068[s], Average temperature: 90.58 Celsius\n"
     ]
    }
   ],
   "source": [
    "# characterisation of the rod\n",
    "a = 110\n",
    "length = 50 #mm\n",
    "time = 4 #seconds\n",
    "nodes = 10\n",
    "\n",
    "# initialization\n",
    "\n",
    "dx = length/(nodes-1)\n",
    "dt = 0.5*dx**2/a\n",
    "t_nodes = int(time/dt)\n",
    "\n",
    "#boundary conditions\n",
    "\n",
    "u = np.zeros(nodes) + 20  # rod is initially at 20 degrees\n",
    "u[0] = 100\n",
    "u[-1] = 100  # temperature at each end of the rod is fixed at 100 deg C\n",
    "\n",
    "\n",
    "# visualizing with plot\n",
    "\n",
    "fig, axis = plt.subplots()\n",
    "pcm = axis.pcolormesh([u], cmap=plt.cm.jet, vmin=0, vmax=100)\n",
    "plt.colorbar(pcm, ax=axis)\n",
    "axis.set_ylim([-2, 3])\n",
    "\n",
    "\n",
    "# Simulating\n",
    "\n",
    "counter = 0\n",
    "\n",
    "while counter < time :\n",
    "    w=u.copy()\n",
    "\n",
    "    for i in range(1, nodes - 1):\n",
    "        \n",
    "        u[i] = dt*a*(w[i-1]-2*w[i]+w[i+1])/dx**2 + w[i]\n",
    "\n",
    "    counter += dt\n",
    "\n",
    "    print (\"t: {:.3f}[s], Average temperature: {:.2f} Celsius\".format(counter, np.average(u)))\n",
    "    pcm.set_array([u])\n",
    "    plt.pause(0.01)\n",
    "    axis.set_title(\"Distribution at t: {:.3f} [s].\".format(counter))\n",
    "    \n",
    "    \n",
    "\n",
    "\n",
    "plt.show()\n",
    "\n"
   ]
  }
 ],
 "metadata": {
  "kernelspec": {
   "display_name": "Python 3",
   "language": "python",
   "name": "python3"
  },
  "language_info": {
   "codemirror_mode": {
    "name": "ipython",
    "version": 3
   },
   "file_extension": ".py",
   "mimetype": "text/x-python",
   "name": "python",
   "nbconvert_exporter": "python",
   "pygments_lexer": "ipython3",
   "version": "3.10.2"
  }
 },
 "nbformat": 4,
 "nbformat_minor": 2
}
