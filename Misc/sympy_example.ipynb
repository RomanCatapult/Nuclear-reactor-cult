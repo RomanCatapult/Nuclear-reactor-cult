{
 "cells": [
  {
   "cell_type": "markdown",
   "id": "d1313eb5",
   "metadata": {},
   "source": [
    "# Sympy tutorial"
   ]
  },
  {
   "cell_type": "code",
   "execution_count": 95,
   "id": "453ac39b",
   "metadata": {},
   "outputs": [],
   "source": [
    "import sympy as sp\n",
    "import numpy as np\n",
    "import matplotlib.pyplot as plt\n",
    "# One can also write 'from sympy import *' so that we don't need to write sp. before every command but that is bad practice\n",
    "import math   # This module contains basic algebraic commands and is inherently installed in python (don't need to do pip install)\n",
    "              # However, math is a numeric module akin to numpy and not a symbolic module"
   ]
  },
  {
   "cell_type": "code",
   "execution_count": null,
   "id": "da08f971",
   "metadata": {},
   "outputs": [
    {
     "data": {
      "text/latex": [
       "$\\displaystyle \\sqrt{2}$"
      ],
      "text/plain": [
       "sqrt(2)"
      ]
     },
     "execution_count": 4,
     "metadata": {},
     "output_type": "execute_result"
    }
   ],
   "source": [
    "sp.sqrt(2) # square root command. This is also inherently found in the 'math' module of python"
   ]
  },
  {
   "cell_type": "code",
   "execution_count": null,
   "id": "7f83adc3",
   "metadata": {},
   "outputs": [
    {
     "data": {
      "text/latex": [
       "$\\displaystyle 2 x + 5$"
      ],
      "text/plain": [
       "2*x + 5"
      ]
     },
     "execution_count": 6,
     "metadata": {},
     "output_type": "execute_result"
    }
   ],
   "source": [
    "# Make a symbol\n",
    "x = sp.Symbol('x')  # X is both the name of the variable and its symbol\n",
    "\n",
    "2*x+5   # prints the espression using x as a symbol"
   ]
  },
  {
   "cell_type": "code",
   "execution_count": 7,
   "id": "06fb851c",
   "metadata": {},
   "outputs": [
    {
     "data": {
      "text/latex": [
       "$\\displaystyle z$"
      ],
      "text/plain": [
       "z"
      ]
     },
     "execution_count": 7,
     "metadata": {},
     "output_type": "execute_result"
    }
   ],
   "source": [
    "# The variable name and symbol name do not need to coincide\n",
    "\n",
    "y= sp.Symbol('z')\n",
    "y"
   ]
  },
  {
   "cell_type": "code",
   "execution_count": 9,
   "id": "cb7751d6",
   "metadata": {},
   "outputs": [
    {
     "data": {
      "text/latex": [
       "$\\displaystyle 3 x - 5$"
      ],
      "text/plain": [
       "3*x - 5"
      ]
     },
     "execution_count": 9,
     "metadata": {},
     "output_type": "execute_result"
    }
   ],
   "source": [
    "# sympy can simplify expressions automatically\n",
    "\n",
    "2 * x + x - 5"
   ]
  },
  {
   "cell_type": "code",
   "execution_count": null,
   "id": "24f38ba7",
   "metadata": {},
   "outputs": [
    {
     "data": {
      "text/latex": [
       "$\\displaystyle \\sin^{2}{\\left(x \\right)} + \\cos^{2}{\\left(x \\right)}$"
      ],
      "text/plain": [
       "sin(x)**2 + cos(x)**2"
      ]
     },
     "execution_count": 10,
     "metadata": {},
     "output_type": "execute_result"
    }
   ],
   "source": [
    "# Sine and cosine\n",
    "\n",
    "sp.sin(x)**2 + sp.cos(x)**2  # This is not simplified even tho it is equal to 1"
   ]
  },
  {
   "cell_type": "code",
   "execution_count": 11,
   "id": "1cb245e1",
   "metadata": {},
   "outputs": [
    {
     "data": {
      "text/latex": [
       "$\\displaystyle \\frac{3 x}{5}$"
      ],
      "text/plain": [
       "3*x/5"
      ]
     },
     "execution_count": 11,
     "metadata": {},
     "output_type": "execute_result"
    }
   ],
   "source": [
    "# fractions are simplified if they are improper\n",
    "\n",
    "6*x / 10"
   ]
  },
  {
   "cell_type": "code",
   "execution_count": 12,
   "id": "b510a360",
   "metadata": {},
   "outputs": [
    {
     "data": {
      "text/latex": [
       "$\\displaystyle 3$"
      ],
      "text/plain": [
       "3"
      ]
     },
     "execution_count": 12,
     "metadata": {},
     "output_type": "execute_result"
    }
   ],
   "source": [
    "# variables also get simplified in fractions if possible\n",
    "\n",
    "3*x/x"
   ]
  },
  {
   "cell_type": "code",
   "execution_count": null,
   "id": "74828809",
   "metadata": {},
   "outputs": [
    {
     "data": {
      "text/latex": [
       "$\\displaystyle x \\left(x + 2\\right)$"
      ],
      "text/plain": [
       "x*(x + 2)"
      ]
     },
     "execution_count": 14,
     "metadata": {},
     "output_type": "execute_result"
    }
   ],
   "source": [
    "# sympy will not expand parenthesis if not specified otherwise\n",
    "\n",
    "expr = x*(x+2)\n",
    "expr"
   ]
  },
  {
   "cell_type": "markdown",
   "id": "c581dbcc",
   "metadata": {},
   "source": [
    "## expansion of expressions"
   ]
  },
  {
   "cell_type": "code",
   "execution_count": 15,
   "id": "533392d0",
   "metadata": {},
   "outputs": [
    {
     "data": {
      "text/latex": [
       "$\\displaystyle x^{2} + 2 x$"
      ],
      "text/plain": [
       "x**2 + 2*x"
      ]
     },
     "execution_count": 15,
     "metadata": {},
     "output_type": "execute_result"
    }
   ],
   "source": [
    "# we can expand parenthesis by specifying:\n",
    "\n",
    "expr.expand()"
   ]
  },
  {
   "cell_type": "code",
   "execution_count": 16,
   "id": "475fb847",
   "metadata": {},
   "outputs": [
    {
     "data": {
      "text/latex": [
       "$\\displaystyle x \\left(x + 2\\right)$"
      ],
      "text/plain": [
       "x*(x + 2)"
      ]
     },
     "execution_count": 16,
     "metadata": {},
     "output_type": "execute_result"
    }
   ],
   "source": [
    "# however, the espression remains the same\n",
    "\n",
    "expr"
   ]
  },
  {
   "cell_type": "code",
   "execution_count": 17,
   "id": "ef89f49c",
   "metadata": {},
   "outputs": [
    {
     "data": {
      "text/latex": [
       "$\\displaystyle x^{2} + 2 x$"
      ],
      "text/plain": [
       "x**2 + 2*x"
      ]
     },
     "execution_count": 17,
     "metadata": {},
     "output_type": "execute_result"
    }
   ],
   "source": [
    "# one can also use expand as a function\n",
    "\n",
    "sp.expand(expr)"
   ]
  },
  {
   "cell_type": "markdown",
   "id": "a0adbcc3",
   "metadata": {},
   "source": [
    "### Multiple symbols definition"
   ]
  },
  {
   "cell_type": "code",
   "execution_count": 18,
   "id": "0ec7539e",
   "metadata": {},
   "outputs": [
    {
     "data": {
      "text/plain": [
       "(s, t)"
      ]
     },
     "execution_count": 18,
     "metadata": {},
     "output_type": "execute_result"
    }
   ],
   "source": [
    "sp.symbols('s t')   # This is saved as a tuple\n"
   ]
  },
  {
   "cell_type": "code",
   "execution_count": null,
   "id": "0b1a6333",
   "metadata": {},
   "outputs": [
    {
     "data": {
      "text/plain": [
       "tuple"
      ]
     },
     "execution_count": 19,
     "metadata": {},
     "output_type": "execute_result"
    }
   ],
   "source": [
    "type(sp.symbols('s t'))  # as can be seen by the type command"
   ]
  },
  {
   "cell_type": "code",
   "execution_count": 20,
   "id": "df444ca4",
   "metadata": {},
   "outputs": [],
   "source": [
    "# we can use tuple unpacking to separate the symbols and assign them to different variables\n",
    "\n",
    "s, t = sp.symbols('s t')"
   ]
  },
  {
   "cell_type": "code",
   "execution_count": 23,
   "id": "e879b323",
   "metadata": {},
   "outputs": [
    {
     "data": {
      "text/latex": [
       "$\\displaystyle t \\left(s + 2\\right) \\left(t - 3\\right)$"
      ],
      "text/plain": [
       "t*(s + 2)*(t - 3)"
      ]
     },
     "execution_count": 23,
     "metadata": {},
     "output_type": "execute_result"
    }
   ],
   "source": [
    "# simple polinomial\n",
    "\n",
    "pol = t*(s+2)*(t-3)\n",
    "pol"
   ]
  },
  {
   "cell_type": "code",
   "execution_count": 24,
   "id": "e59d6e4c",
   "metadata": {},
   "outputs": [
    {
     "data": {
      "text/latex": [
       "$\\displaystyle s t^{2} - 3 s t + 2 t^{2} - 6 t$"
      ],
      "text/plain": [
       "s*t**2 - 3*s*t + 2*t**2 - 6*t"
      ]
     },
     "execution_count": 24,
     "metadata": {},
     "output_type": "execute_result"
    }
   ],
   "source": [
    "# expanding it\n",
    "\n",
    "pol.expand()"
   ]
  },
  {
   "cell_type": "markdown",
   "id": "785a869b",
   "metadata": {},
   "source": [
    "### Factoring expressions"
   ]
  },
  {
   "cell_type": "code",
   "execution_count": null,
   "id": "39f23c59",
   "metadata": {},
   "outputs": [
    {
     "data": {
      "text/latex": [
       "$\\displaystyle \\left(x - 3\\right) \\left(x + 5\\right)$"
      ],
      "text/plain": [
       "(x - 3)*(x + 5)"
      ]
     },
     "execution_count": 25,
     "metadata": {},
     "output_type": "execute_result"
    }
   ],
   "source": [
    "expr = x**2 + 2*x -15\n",
    "expr.factor()   # This factors an expression if possible"
   ]
  },
  {
   "cell_type": "code",
   "execution_count": null,
   "id": "52dd31b7",
   "metadata": {},
   "outputs": [
    {
     "data": {
      "text/plain": [
       "(x0, x1, x2)"
      ]
     },
     "execution_count": 26,
     "metadata": {},
     "output_type": "execute_result"
    }
   ],
   "source": [
    "# if we want to create a vector of symbols, we use the symbols command\n",
    "\n",
    "x_v = sp.symbols('x0:3')   # This creates a tuple that contains x0, x1, x2, with x3 excluded\n",
    "x_v"
   ]
  },
  {
   "cell_type": "code",
   "execution_count": 27,
   "id": "04208697",
   "metadata": {},
   "outputs": [
    {
     "data": {
      "text/latex": [
       "$\\displaystyle x_{0}^{2} x_{1} x_{2} + x_{0} x_{1} x_{2}$"
      ],
      "text/plain": [
       "x0**2*x1*x2 + x0*x1*x2"
      ]
     },
     "execution_count": 27,
     "metadata": {},
     "output_type": "execute_result"
    }
   ],
   "source": [
    "ex = x_v[0]**2 * x_v[1]* x_v[2] + x_v[0] * x_v[1] * x_v[2]\n",
    "ex"
   ]
  },
  {
   "cell_type": "code",
   "execution_count": 28,
   "id": "1bb8578e",
   "metadata": {},
   "outputs": [
    {
     "data": {
      "text/latex": [
       "$\\displaystyle x_{0} x_{1} x_{2} \\left(x_{0} + 1\\right)$"
      ],
      "text/plain": [
       "x0*x1*x2*(x0 + 1)"
      ]
     },
     "execution_count": 28,
     "metadata": {},
     "output_type": "execute_result"
    }
   ],
   "source": [
    "ex.factor()"
   ]
  },
  {
   "cell_type": "markdown",
   "id": "28132e16",
   "metadata": {},
   "source": [
    "# Data types and common functions"
   ]
  },
  {
   "cell_type": "code",
   "execution_count": 30,
   "id": "bd320e12",
   "metadata": {},
   "outputs": [
    {
     "data": {
      "text/latex": [
       "$\\displaystyle x^{0.333333333333333}$"
      ],
      "text/plain": [
       "x**0.333333333333333"
      ]
     },
     "execution_count": 30,
     "metadata": {},
     "output_type": "execute_result"
    }
   ],
   "source": [
    "x = sp.Symbol('x')\n",
    "expr = x**(1/3)\n",
    "expr"
   ]
  },
  {
   "cell_type": "markdown",
   "id": "d6ca8219",
   "metadata": {},
   "source": [
    "Sympy integer type"
   ]
  },
  {
   "cell_type": "code",
   "execution_count": 32,
   "id": "c528577e",
   "metadata": {},
   "outputs": [
    {
     "data": {
      "text/latex": [
       "$\\displaystyle \\sqrt[3]{x}$"
      ],
      "text/plain": [
       "x**(1/3)"
      ]
     },
     "execution_count": 32,
     "metadata": {},
     "output_type": "execute_result"
    }
   ],
   "source": [
    "# To avoid having 1/3 evaluated as a floating point which gives a periodic number, we use sympy integers\n",
    "expr = x**(sp.Integer(1)/sp.Integer(3))\n",
    "expr"
   ]
  },
  {
   "cell_type": "code",
   "execution_count": 33,
   "id": "957c10ce",
   "metadata": {},
   "outputs": [
    {
     "data": {
      "text/latex": [
       "$\\displaystyle \\sqrt[15]{x}$"
      ],
      "text/plain": [
       "x**(1/15)"
      ]
     },
     "execution_count": 33,
     "metadata": {},
     "output_type": "execute_result"
    }
   ],
   "source": [
    "# even more simply:\n",
    "expr**(sp.Integer(1)/5)"
   ]
  },
  {
   "cell_type": "markdown",
   "id": "f2151576",
   "metadata": {},
   "source": [
    "This is because when we have an interaction between a sympy and a normal python object the normal object is transformed into a sympy object automatically"
   ]
  },
  {
   "cell_type": "markdown",
   "id": "c6ebe7fa",
   "metadata": {},
   "source": [
    "### Sympy rational type"
   ]
  },
  {
   "cell_type": "code",
   "execution_count": null,
   "id": "9f233a74",
   "metadata": {},
   "outputs": [
    {
     "data": {
      "text/latex": [
       "$\\displaystyle \\frac{1}{3}$"
      ],
      "text/plain": [
       "1/3"
      ]
     },
     "execution_count": 34,
     "metadata": {},
     "output_type": "execute_result"
    }
   ],
   "source": [
    "# Just like integers, we can have rational sympy rational number types\n",
    "rational = sp.Rational(1,3)\n",
    "rational   # This is not 0,666666666, this is exactly 1/3"
   ]
  },
  {
   "cell_type": "code",
   "execution_count": 35,
   "id": "941a1862",
   "metadata": {},
   "outputs": [
    {
     "data": {
      "text/latex": [
       "$\\displaystyle \\sqrt[15]{x}$"
      ],
      "text/plain": [
       "x**(1/15)"
      ]
     },
     "execution_count": 35,
     "metadata": {},
     "output_type": "execute_result"
    }
   ],
   "source": [
    "# hence we could have just written the following:\n",
    "\n",
    "expr = (x**sp.Rational(1,3))**sp.Rational(1,5)\n",
    "expr"
   ]
  },
  {
   "cell_type": "markdown",
   "id": "f8229bc1",
   "metadata": {},
   "source": [
    "### Important constants"
   ]
  },
  {
   "cell_type": "code",
   "execution_count": null,
   "id": "4a3ae82c",
   "metadata": {},
   "outputs": [
    {
     "data": {
      "text/latex": [
       "$\\displaystyle \\infty$"
      ],
      "text/plain": [
       "oo"
      ]
     },
     "execution_count": 37,
     "metadata": {},
     "output_type": "execute_result"
    }
   ],
   "source": [
    "sp.pi   # pigreco\n",
    "sp.E    #euler's number\n",
    "sp.oo   #infinity, which works exactly as we think it does"
   ]
  },
  {
   "cell_type": "code",
   "execution_count": null,
   "id": "139bd615",
   "metadata": {},
   "outputs": [
    {
     "data": {
      "text/latex": [
       "$\\displaystyle \\text{NaN}$"
      ],
      "text/plain": [
       "nan"
      ]
     },
     "execution_count": 38,
     "metadata": {},
     "output_type": "execute_result"
    }
   ],
   "source": [
    "sp.oo-sp.oo      # infinity minus infinity gives an error"
   ]
  },
  {
   "cell_type": "code",
   "execution_count": 39,
   "id": "04617463",
   "metadata": {},
   "outputs": [
    {
     "data": {
      "text/latex": [
       "$\\displaystyle i$"
      ],
      "text/plain": [
       "I"
      ]
     },
     "execution_count": 39,
     "metadata": {},
     "output_type": "execute_result"
    }
   ],
   "source": [
    "sp.I  # imaginary unit"
   ]
  },
  {
   "cell_type": "code",
   "execution_count": 40,
   "id": "08040cad",
   "metadata": {},
   "outputs": [
    {
     "data": {
      "text/latex": [
       "$\\displaystyle -1$"
      ],
      "text/plain": [
       "-1"
      ]
     },
     "execution_count": 40,
     "metadata": {},
     "output_type": "execute_result"
    }
   ],
   "source": [
    "# complex arithmetic is implemented in sympy\n",
    "sp.I**2"
   ]
  },
  {
   "cell_type": "markdown",
   "id": "96ea8731",
   "metadata": {},
   "source": [
    "### Common functions"
   ]
  },
  {
   "cell_type": "code",
   "execution_count": 41,
   "id": "ebe6b1ed",
   "metadata": {},
   "outputs": [
    {
     "data": {
      "text/latex": [
       "$\\displaystyle e^{x}$"
      ],
      "text/plain": [
       "exp(x)"
      ]
     },
     "execution_count": 41,
     "metadata": {},
     "output_type": "execute_result"
    }
   ],
   "source": [
    "# exponential function\n",
    "\n",
    "sp.exp(x)"
   ]
  },
  {
   "cell_type": "code",
   "execution_count": 43,
   "id": "d4af412c",
   "metadata": {},
   "outputs": [
    {
     "data": {
      "text/latex": [
       "$\\displaystyle -1$"
      ],
      "text/plain": [
       "-1"
      ]
     },
     "execution_count": 43,
     "metadata": {},
     "output_type": "execute_result"
    }
   ],
   "source": [
    "# euler's identity\n",
    "\n",
    "sp.exp(sp.pi*sp.I)"
   ]
  },
  {
   "cell_type": "code",
   "execution_count": null,
   "id": "c6d33853",
   "metadata": {},
   "outputs": [
    {
     "data": {
      "text/latex": [
       "$\\displaystyle x$"
      ],
      "text/plain": [
       "x"
      ]
     },
     "execution_count": 45,
     "metadata": {},
     "output_type": "execute_result"
    }
   ],
   "source": [
    "# logarithm\n",
    "\n",
    "sp.log(x)    #is the natural logarithm\n",
    "sp.exp(sp.log(x))"
   ]
  },
  {
   "cell_type": "code",
   "execution_count": null,
   "id": "6b82d5e5",
   "metadata": {},
   "outputs": [],
   "source": [
    "# trigonometric functions\n",
    "sp.sin(x)\n",
    "sp.cos(x)\n",
    "sp.tan(x)\n",
    "sp.cot(x)\n",
    "sp.cosh(x)\n",
    "\n",
    "#etc"
   ]
  },
  {
   "cell_type": "markdown",
   "id": "653c23d9",
   "metadata": {},
   "source": [
    "# Solving equations"
   ]
  },
  {
   "cell_type": "code",
   "execution_count": 63,
   "id": "d7d85269",
   "metadata": {},
   "outputs": [],
   "source": [
    "x, y, z = sp.symbols('x, y, z')\n",
    "\n",
    "# in python, the = symbol is already used to assign a variable so we cannot use it in an equation"
   ]
  },
  {
   "cell_type": "code",
   "execution_count": 46,
   "id": "4432ed6f",
   "metadata": {},
   "outputs": [
    {
     "data": {
      "text/latex": [
       "$\\displaystyle x^{2} = 5$"
      ],
      "text/plain": [
       "Eq(x**2, 5)"
      ]
     },
     "execution_count": 46,
     "metadata": {},
     "output_type": "execute_result"
    }
   ],
   "source": [
    "# e want to define x^2 = 5\n",
    "\n",
    "eq = sp.Eq(x**2, 5)     # On the left of the comma we have the left hand side and on the right the right hand side\n",
    "eq"
   ]
  },
  {
   "cell_type": "code",
   "execution_count": null,
   "id": "a49c568f",
   "metadata": {},
   "outputs": [
    {
     "data": {
      "text/latex": [
       "$\\displaystyle \\left\\{- \\sqrt{5}, \\sqrt{5}\\right\\}$"
      ],
      "text/plain": [
       "{-sqrt(5), sqrt(5)}"
      ]
     },
     "execution_count": 47,
     "metadata": {},
     "output_type": "execute_result"
    }
   ],
   "source": [
    "# in order to solve the equation, we can use solveset which gives the set of solutions:\n",
    "\n",
    "sp.solveset(eq, x)   # if we have a single variable we don't need to specify the ',x', but for multiple variables we need to specify for which variable we want to solve"
   ]
  },
  {
   "cell_type": "code",
   "execution_count": 48,
   "id": "1dcc0bf7",
   "metadata": {},
   "outputs": [
    {
     "data": {
      "text/plain": [
       "sympy.sets.sets.FiniteSet"
      ]
     },
     "execution_count": 48,
     "metadata": {},
     "output_type": "execute_result"
    }
   ],
   "source": [
    "type(sp.solveset(eq))"
   ]
  },
  {
   "cell_type": "code",
   "execution_count": 50,
   "id": "65e7fee8",
   "metadata": {},
   "outputs": [
    {
     "data": {
      "text/latex": [
       "$\\displaystyle \\sqrt{5}$"
      ],
      "text/plain": [
       "sqrt(5)"
      ]
     },
     "execution_count": 50,
     "metadata": {},
     "output_type": "execute_result"
    }
   ],
   "source": [
    "# we want to extract the first solution\n",
    "\n",
    "list(sp.solveset(eq,x)) [0]"
   ]
  },
  {
   "cell_type": "markdown",
   "id": "2ca96ebf",
   "metadata": {},
   "source": [
    "We can also solve $x^2-5=0$ instead of $x^2=5$"
   ]
  },
  {
   "cell_type": "code",
   "execution_count": 52,
   "id": "931e08b5",
   "metadata": {},
   "outputs": [
    {
     "data": {
      "text/latex": [
       "$\\displaystyle \\left\\{- \\sqrt{5}, \\sqrt{5}\\right\\}$"
      ],
      "text/plain": [
       "{-sqrt(5), sqrt(5)}"
      ]
     },
     "execution_count": 52,
     "metadata": {},
     "output_type": "execute_result"
    }
   ],
   "source": [
    "eq=sp.Eq(x**2-5, 0)\n",
    "sp.solveset(eq, x)"
   ]
  },
  {
   "cell_type": "markdown",
   "id": "795d4eb1",
   "metadata": {},
   "source": [
    "Example: trig equation"
   ]
  },
  {
   "cell_type": "code",
   "execution_count": 53,
   "id": "e12c9406",
   "metadata": {},
   "outputs": [
    {
     "data": {
      "text/latex": [
       "$\\displaystyle - \\sin{\\left(x \\right)} + \\cos{\\left(x \\right)} = 0$"
      ],
      "text/plain": [
       "Eq(-sin(x) + cos(x), 0)"
      ]
     },
     "execution_count": 53,
     "metadata": {},
     "output_type": "execute_result"
    }
   ],
   "source": [
    "eq2 = sp.Eq(sp.cos(x)-sp.sin(x), 0)\n",
    "eq2"
   ]
  },
  {
   "cell_type": "code",
   "execution_count": null,
   "id": "81d90221",
   "metadata": {},
   "outputs": [
    {
     "data": {
      "text/latex": [
       "$\\displaystyle \\left\\{2 n \\pi + \\frac{5 \\pi}{4}\\; \\middle|\\; n \\in \\mathbb{Z}\\right\\} \\cup \\left\\{2 n \\pi + \\frac{\\pi}{4}\\; \\middle|\\; n \\in \\mathbb{Z}\\right\\}$"
      ],
      "text/plain": [
       "Union(ImageSet(Lambda(_n, 2*_n*pi + 5*pi/4), Integers), ImageSet(Lambda(_n, 2*_n*pi + pi/4), Integers))"
      ]
     },
     "execution_count": 54,
     "metadata": {},
     "output_type": "execute_result"
    }
   ],
   "source": [
    "sp.solveset(eq2)   # this gives an infinite set of solutions because the solutions are infinite since it is a trig equation"
   ]
  },
  {
   "cell_type": "code",
   "execution_count": 55,
   "id": "b6ba5b47",
   "metadata": {},
   "outputs": [
    {
     "data": {
      "text/plain": [
       "sympy.sets.sets.Union"
      ]
     },
     "execution_count": 55,
     "metadata": {},
     "output_type": "execute_result"
    }
   ],
   "source": [
    "type(sp.solveset(eq2) )"
   ]
  },
  {
   "cell_type": "markdown",
   "id": "bad9c2e5",
   "metadata": {},
   "source": [
    "Third example: equation which is simbolically impossible to solve"
   ]
  },
  {
   "cell_type": "code",
   "execution_count": 61,
   "id": "1cf4f100",
   "metadata": {},
   "outputs": [
    {
     "data": {
      "text/latex": [
       "$\\displaystyle \\cos{\\left(x \\right)} = x$"
      ],
      "text/plain": [
       "Eq(cos(x), x)"
      ]
     },
     "execution_count": 61,
     "metadata": {},
     "output_type": "execute_result"
    }
   ],
   "source": [
    "# We define an equation which is only solvable numerically\n",
    "\n",
    "eq3 = sp.Eq(sp.cos(x), x)\n",
    "eq3"
   ]
  },
  {
   "cell_type": "code",
   "execution_count": null,
   "id": "1904e52e",
   "metadata": {},
   "outputs": [
    {
     "data": {
      "text/latex": [
       "$\\displaystyle \\left\\{x\\; \\middle|\\; x \\in \\mathbb{C} \\wedge - x + \\cos{\\left(x \\right)} = 0 \\right\\}$"
      ],
      "text/plain": [
       "ConditionSet(x, Eq(-x + cos(x), 0), Complexes)"
      ]
     },
     "execution_count": 59,
     "metadata": {},
     "output_type": "execute_result"
    }
   ],
   "source": [
    "sp.solveset(eq3)   # of course we get that the solution of the equation is the x which solves the equation which is a tautology"
   ]
  },
  {
   "cell_type": "code",
   "execution_count": 60,
   "id": "601832be",
   "metadata": {},
   "outputs": [
    {
     "data": {
      "text/plain": [
       "sympy.sets.conditionset.ConditionSet"
      ]
     },
     "execution_count": 60,
     "metadata": {},
     "output_type": "execute_result"
    }
   ],
   "source": [
    "type(sp.solveset(eq3))"
   ]
  },
  {
   "cell_type": "markdown",
   "id": "ce4c5ab6",
   "metadata": {},
   "source": [
    "## Solving systems of linear equations"
   ]
  },
  {
   "cell_type": "code",
   "execution_count": 66,
   "id": "040e721a",
   "metadata": {},
   "outputs": [],
   "source": [
    "eq_lin1 = sp.Eq(x, 3*y+z)\n",
    "eq_lin2 = sp.Eq(5*x-3*z, y)"
   ]
  },
  {
   "cell_type": "code",
   "execution_count": null,
   "id": "fed50374",
   "metadata": {},
   "outputs": [
    {
     "data": {
      "text/latex": [
       "$\\displaystyle \\left\\{\\left( \\frac{4 z}{7}, \\  - \\frac{z}{7}, \\  z\\right)\\right\\}$"
      ],
      "text/plain": [
       "{(4*z/7, -z/7, z)}"
      ]
     },
     "execution_count": 67,
     "metadata": {},
     "output_type": "execute_result"
    }
   ],
   "source": [
    "# we want to solve the system\n",
    "\n",
    "sp.linsolve([eq_lin1, eq_lin2], x, y, z)  # this gives a set where the first position is x, the second y and the third z\n",
    "# since we have more than one variables we need to explicitly say which variables we solve for, which is all three"
   ]
  },
  {
   "cell_type": "markdown",
   "id": "98239f70",
   "metadata": {},
   "source": [
    "## Simplifying expressions"
   ]
  },
  {
   "cell_type": "code",
   "execution_count": 68,
   "id": "c17f0c5d",
   "metadata": {},
   "outputs": [
    {
     "data": {
      "text/latex": [
       "$\\displaystyle x^{2} + 5 x + 6$"
      ],
      "text/plain": [
       "x**2 + 5*x + 6"
      ]
     },
     "execution_count": 68,
     "metadata": {},
     "output_type": "execute_result"
    }
   ],
   "source": [
    "poly = x**2 +5*x + 6\n",
    "poly"
   ]
  },
  {
   "cell_type": "code",
   "execution_count": 69,
   "id": "4b63e25d",
   "metadata": {},
   "outputs": [
    {
     "data": {
      "text/latex": [
       "$\\displaystyle \\left(x + 2\\right) \\left(x + 3\\right)$"
      ],
      "text/plain": [
       "(x + 2)*(x + 3)"
      ]
     },
     "execution_count": 69,
     "metadata": {},
     "output_type": "execute_result"
    }
   ],
   "source": [
    "poly.factor()"
   ]
  },
  {
   "cell_type": "code",
   "execution_count": 70,
   "id": "65662163",
   "metadata": {},
   "outputs": [
    {
     "data": {
      "text/latex": [
       "$\\displaystyle x^{2} + 5 x + 6$"
      ],
      "text/plain": [
       "x**2 + 5*x + 6"
      ]
     },
     "execution_count": 70,
     "metadata": {},
     "output_type": "execute_result"
    }
   ],
   "source": [
    "poly.expand()"
   ]
  },
  {
   "cell_type": "code",
   "execution_count": 71,
   "id": "ae193c85",
   "metadata": {},
   "outputs": [
    {
     "data": {
      "text/latex": [
       "$\\displaystyle e^{x + y}$"
      ],
      "text/plain": [
       "exp(x + y)"
      ]
     },
     "execution_count": 71,
     "metadata": {},
     "output_type": "execute_result"
    }
   ],
   "source": [
    "# we can also expand exponential terms\n",
    "sp.exp(x+y)"
   ]
  },
  {
   "cell_type": "code",
   "execution_count": 72,
   "id": "0f25cd10",
   "metadata": {},
   "outputs": [
    {
     "data": {
      "text/latex": [
       "$\\displaystyle e^{x} e^{y}$"
      ],
      "text/plain": [
       "exp(x)*exp(y)"
      ]
     },
     "execution_count": 72,
     "metadata": {},
     "output_type": "execute_result"
    }
   ],
   "source": [
    "(sp.exp(x+y)).expand()"
   ]
  },
  {
   "cell_type": "code",
   "execution_count": 75,
   "id": "7c49cf6c",
   "metadata": {},
   "outputs": [
    {
     "data": {
      "text/latex": [
       "$\\displaystyle \\left(\\sin{\\left(x \\right)} + \\cos{\\left(x \\right)}\\right)^{2} - \\cos^{2}{\\left(x \\right)}$"
      ],
      "text/plain": [
       "(sin(x) + cos(x))**2 - cos(x)**2"
      ]
     },
     "execution_count": 75,
     "metadata": {},
     "output_type": "execute_result"
    }
   ],
   "source": [
    "# for a trig expression\n",
    "trig = (sp.cos(x) + sp.sin(x))**2 - sp.cos(x)**2\n",
    "trig"
   ]
  },
  {
   "cell_type": "code",
   "execution_count": 76,
   "id": "e42f319a",
   "metadata": {},
   "outputs": [
    {
     "data": {
      "text/latex": [
       "$\\displaystyle \\sin^{2}{\\left(x \\right)} + 2 \\sin{\\left(x \\right)} \\cos{\\left(x \\right)}$"
      ],
      "text/plain": [
       "sin(x)**2 + 2*sin(x)*cos(x)"
      ]
     },
     "execution_count": 76,
     "metadata": {},
     "output_type": "execute_result"
    }
   ],
   "source": [
    "trig.expand()"
   ]
  },
  {
   "cell_type": "markdown",
   "id": "9eb40983",
   "metadata": {},
   "source": [
    "If we only want to expand certin elements of the expression, while maintaining everything else static, we can use additional arguments in the expand() expression"
   ]
  },
  {
   "cell_type": "code",
   "execution_count": 79,
   "id": "d7ab4bff",
   "metadata": {},
   "outputs": [],
   "source": [
    "# trig and exponential expressions\n",
    "trig_and_exp = sp.exp(x+y) + (sp.cos(x) + sp.sin(x))**2 - sp.cos(x)**2"
   ]
  },
  {
   "cell_type": "code",
   "execution_count": 80,
   "id": "9ffbddb7",
   "metadata": {},
   "outputs": [
    {
     "data": {
      "text/latex": [
       "$\\displaystyle e^{x} e^{y} + \\sin^{2}{\\left(x \\right)} + 2 \\sin{\\left(x \\right)} \\cos{\\left(x \\right)}$"
      ],
      "text/plain": [
       "exp(x)*exp(y) + sin(x)**2 + 2*sin(x)*cos(x)"
      ]
     },
     "execution_count": 80,
     "metadata": {},
     "output_type": "execute_result"
    }
   ],
   "source": [
    "# to expand everything:\n",
    "trig_and_exp.expand()"
   ]
  },
  {
   "cell_type": "code",
   "execution_count": 81,
   "id": "a3c42d3e",
   "metadata": {},
   "outputs": [
    {
     "data": {
      "text/latex": [
       "$\\displaystyle e^{x + y} + \\sin^{2}{\\left(x \\right)} + 2 \\sin{\\left(x \\right)} \\cos{\\left(x \\right)}$"
      ],
      "text/plain": [
       "exp(x + y) + sin(x)**2 + 2*sin(x)*cos(x)"
      ]
     },
     "execution_count": 81,
     "metadata": {},
     "output_type": "execute_result"
    }
   ],
   "source": [
    "# if we only wish to expand trig factors:\n",
    "\n",
    "trig_and_exp.expand(power_exp=False)  # with this parametre we turn off the expansion of exponential terms"
   ]
  },
  {
   "cell_type": "markdown",
   "id": "c710a211",
   "metadata": {},
   "source": [
    "### Simplyfying rational functions"
   ]
  },
  {
   "cell_type": "markdown",
   "id": "9746f38b",
   "metadata": {},
   "source": [
    "We can use cancel() and apart() to simplify rational functions, which have polinomia both at the numerator and denominator.\n",
    "\n",
    "The cancel method will take any rational function of the form $\\frac{p(x)}{q(x)}$ and factor it so the polinomials p(x) and q(x) have no common factor"
   ]
  },
  {
   "cell_type": "code",
   "execution_count": 83,
   "id": "8e3e0f89",
   "metadata": {},
   "outputs": [
    {
     "data": {
      "text/latex": [
       "$\\displaystyle \\frac{x^{3} + 10 x^{2} + 31 x + 30}{x^{2} + 12 x + 35}$"
      ],
      "text/plain": [
       "(x**3 + 10*x**2 + 31*x + 30)/(x**2 + 12*x + 35)"
      ]
     },
     "execution_count": 83,
     "metadata": {},
     "output_type": "execute_result"
    }
   ],
   "source": [
    "p = x**3 + 10*x**2 + 31*x + 30\n",
    "q = x**2 + 12*x + 35\n",
    "fraction = p/q\n",
    "fraction"
   ]
  },
  {
   "cell_type": "code",
   "execution_count": 84,
   "id": "bbeccc4b",
   "metadata": {},
   "outputs": [
    {
     "data": {
      "text/latex": [
       "$\\displaystyle \\frac{x^{2} + 5 x + 6}{x + 7}$"
      ],
      "text/plain": [
       "(x**2 + 5*x + 6)/(x + 7)"
      ]
     },
     "execution_count": 84,
     "metadata": {},
     "output_type": "execute_result"
    }
   ],
   "source": [
    "fraction.cancel()"
   ]
  },
  {
   "cell_type": "markdown",
   "id": "c75c4ffb",
   "metadata": {},
   "source": [
    "The apart method will perform the partial fraction decomposition of a rational fraction"
   ]
  },
  {
   "cell_type": "code",
   "execution_count": 85,
   "id": "9a9aa260",
   "metadata": {},
   "outputs": [
    {
     "data": {
      "text/latex": [
       "$\\displaystyle \\frac{x^{3} + 10 x^{2} + 31 x + 30}{x^{2} + 12 x + 35}$"
      ],
      "text/plain": [
       "(x**3 + 10*x**2 + 31*x + 30)/(x**2 + 12*x + 35)"
      ]
     },
     "execution_count": 85,
     "metadata": {},
     "output_type": "execute_result"
    }
   ],
   "source": [
    "p = x**3 + 10*x**2 + 31*x + 30\n",
    "q = x**2 + 12*x + 35\n",
    "fraction = p/q\n",
    "fraction"
   ]
  },
  {
   "cell_type": "code",
   "execution_count": 86,
   "id": "545df373",
   "metadata": {},
   "outputs": [
    {
     "data": {
      "text/latex": [
       "$\\displaystyle x - 2 + \\frac{20}{x + 7}$"
      ],
      "text/plain": [
       "x - 2 + 20/(x + 7)"
      ]
     },
     "execution_count": 86,
     "metadata": {},
     "output_type": "execute_result"
    }
   ],
   "source": [
    "fraction.apart()"
   ]
  },
  {
   "cell_type": "markdown",
   "id": "35c01dbd",
   "metadata": {},
   "source": [
    "### The general simplify method"
   ]
  },
  {
   "cell_type": "markdown",
   "id": "e264b833",
   "metadata": {},
   "source": [
    "The simplify() method is the most versatile but also the most unspecific and slowest"
   ]
  },
  {
   "cell_type": "code",
   "execution_count": 88,
   "id": "7ed83fa0",
   "metadata": {},
   "outputs": [
    {
     "data": {
      "text/latex": [
       "$\\displaystyle \\left(\\sin{\\left(x \\right)} + \\cos{\\left(x \\right)}\\right)^{2} - e^{x} + e^{x + y} - \\cos{\\left(x \\right)}$"
      ],
      "text/plain": [
       "(sin(x) + cos(x))**2 - exp(x) + exp(x + y) - cos(x)"
      ]
     },
     "execution_count": 88,
     "metadata": {},
     "output_type": "execute_result"
    }
   ],
   "source": [
    "expr = sp.exp(x+y) + (sp.cos(x) + sp.sin(x))**2-sp.cos(x)-sp.exp(x)\n",
    "expr"
   ]
  },
  {
   "cell_type": "code",
   "execution_count": null,
   "id": "f24e1975",
   "metadata": {},
   "outputs": [
    {
     "data": {
      "text/latex": [
       "$\\displaystyle - e^{x} + e^{x + y} + \\sin{\\left(2 x \\right)} - \\cos{\\left(x \\right)} + 1$"
      ],
      "text/plain": [
       "-exp(x) + exp(x + y) + sin(2*x) - cos(x) + 1"
      ]
     },
     "execution_count": 90,
     "metadata": {},
     "output_type": "execute_result"
    }
   ],
   "source": [
    "# general simplification\n",
    "expr.simplify()   # This gives the expression in its most simplified form, but if we need more fine tuning we should refer to the previous methods"
   ]
  },
  {
   "cell_type": "markdown",
   "id": "812db39a",
   "metadata": {},
   "source": [
    "# Evaluating expressions"
   ]
  },
  {
   "cell_type": "markdown",
   "id": "9f251ff8",
   "metadata": {},
   "source": [
    "### Real, positive and integer symbols\n",
    "\n",
    "In sympy, symbols are automatically considered complex, but some expressions only make sense if the symbol is real, like\n",
    "$\\log(e^x)=x$ which is only true for real numbers. Hence if we have more knowledge of the symbol we shall specify it to sympy."
   ]
  },
  {
   "cell_type": "code",
   "execution_count": 5,
   "id": "8cde9540",
   "metadata": {},
   "outputs": [
    {
     "data": {
      "text/latex": [
       "$\\displaystyle \\log{\\left(e^{z} \\right)}$"
      ],
      "text/plain": [
       "log(exp(z))"
      ]
     },
     "execution_count": 5,
     "metadata": {},
     "output_type": "execute_result"
    }
   ],
   "source": [
    "# if we don't specify the variable type, some expressions will not be simplified\n",
    "z = sp.Symbol('z')\n",
    "sp.log(sp.exp(z))"
   ]
  },
  {
   "cell_type": "code",
   "execution_count": 7,
   "id": "6666b13e",
   "metadata": {},
   "outputs": [
    {
     "data": {
      "text/latex": [
       "$\\displaystyle x_{0}$"
      ],
      "text/plain": [
       "x0"
      ]
     },
     "execution_count": 7,
     "metadata": {},
     "output_type": "execute_result"
    }
   ],
   "source": [
    "# we want to make three real symbols\n",
    "\n",
    "x0, x1, x2 = sp.symbols('x0:3', real=True)  # this is important for the simplification of some expressions\n",
    "\n",
    "#so if we want to verify the previous identity\n",
    "sp.log(sp.exp(x0))"
   ]
  },
  {
   "cell_type": "code",
   "execution_count": 9,
   "id": "342c8e02",
   "metadata": {},
   "outputs": [
    {
     "data": {
      "text/latex": [
       "$\\displaystyle \\left|{x_{0}}\\right|$"
      ],
      "text/plain": [
       "Abs(x0)"
      ]
     },
     "execution_count": 9,
     "metadata": {},
     "output_type": "execute_result"
    }
   ],
   "source": [
    "# if we don't specify that x is positive, the square root of x^2 will give the module of x\n",
    "sp.sqrt(x0**2)"
   ]
  },
  {
   "cell_type": "code",
   "execution_count": 10,
   "id": "4cb9c9e9",
   "metadata": {},
   "outputs": [
    {
     "data": {
      "text/latex": [
       "$\\displaystyle x$"
      ],
      "text/plain": [
       "x"
      ]
     },
     "execution_count": 10,
     "metadata": {},
     "output_type": "execute_result"
    }
   ],
   "source": [
    "# we make a positive symbol\n",
    "\n",
    "x = sp.Symbol('x', positive=True)\n",
    "sp.sqrt(x**2)   # now we get x instead of the module of x"
   ]
  },
  {
   "cell_type": "code",
   "execution_count": 12,
   "id": "ea85f4e6",
   "metadata": {},
   "outputs": [],
   "source": [
    "# we can also make an integer symbol\n",
    "n = sp.Symbol('n', integer=True)"
   ]
  },
  {
   "cell_type": "code",
   "execution_count": 13,
   "id": "453e00b8",
   "metadata": {},
   "outputs": [
    {
     "data": {
      "text/latex": [
       "$\\displaystyle 1$"
      ],
      "text/plain": [
       "1"
      ]
     },
     "execution_count": 13,
     "metadata": {},
     "output_type": "execute_result"
    }
   ],
   "source": [
    "# thus, the expression (-1)^(2n) will give 1 because n is an integer and 2n is always even\n",
    "\n",
    "(-1)**(2*n)   "
   ]
  },
  {
   "cell_type": "markdown",
   "id": "27690e03",
   "metadata": {},
   "source": [
    "## Point evaluation of expressions"
   ]
  },
  {
   "cell_type": "markdown",
   "id": "9c10cded",
   "metadata": {},
   "source": [
    "In python we use the .subs() method"
   ]
  },
  {
   "cell_type": "code",
   "execution_count": 14,
   "id": "fbf4d576",
   "metadata": {},
   "outputs": [
    {
     "data": {
      "text/latex": [
       "$\\displaystyle x_{0}^{2} + 5$"
      ],
      "text/plain": [
       "x0**2 + 5"
      ]
     },
     "execution_count": 14,
     "metadata": {},
     "output_type": "execute_result"
    }
   ],
   "source": [
    "# create an expression\n",
    "expr = x0**2 + 5\n",
    "expr"
   ]
  },
  {
   "cell_type": "code",
   "execution_count": 23,
   "id": "72a45282",
   "metadata": {},
   "outputs": [
    {
     "data": {
      "text/latex": [
       "$\\displaystyle 5 + \\pi^{2}$"
      ],
      "text/plain": [
       "5 + pi**2"
      ]
     },
     "execution_count": 23,
     "metadata": {},
     "output_type": "execute_result"
    }
   ],
   "source": [
    "# insert pi into the expression\n",
    "\n",
    "num = expr.subs(x0, sp.pi)  # this substitutes x0 with pi in the expression\n",
    "num"
   ]
  },
  {
   "cell_type": "markdown",
   "id": "0aa9f469",
   "metadata": {},
   "source": [
    ".subs() will not change the expression"
   ]
  },
  {
   "cell_type": "code",
   "execution_count": null,
   "id": "de3c3096",
   "metadata": {},
   "outputs": [
    {
     "data": {
      "text/latex": [
       "$\\displaystyle x_{1}^{4} + 5$"
      ],
      "text/plain": [
       "x1**4 + 5"
      ]
     },
     "execution_count": 16,
     "metadata": {},
     "output_type": "execute_result"
    }
   ],
   "source": [
    "# we can insert another expression into the expression\n",
    "expr.subs(x0, x1**2)"
   ]
  },
  {
   "cell_type": "markdown",
   "id": "0ae29578",
   "metadata": {},
   "source": [
    "### Going numeric"
   ]
  },
  {
   "cell_type": "code",
   "execution_count": 24,
   "id": "615186ed",
   "metadata": {},
   "outputs": [
    {
     "data": {
      "text/latex": [
       "$\\displaystyle 14.8696044010894$"
      ],
      "text/plain": [
       "14.8696044010894"
      ]
     },
     "execution_count": 24,
     "metadata": {},
     "output_type": "execute_result"
    }
   ],
   "source": [
    "# if we want to translate a symbolic number (like 5+pi^2) into a numeric number, we use sp.N\n",
    "# the standard umber of decimal places is 15, but we can specify the number of decimal places we want\n",
    "\n",
    "sp.N(num)"
   ]
  },
  {
   "cell_type": "code",
   "execution_count": null,
   "id": "5058d529",
   "metadata": {},
   "outputs": [
    {
     "data": {
      "text/latex": [
       "$\\displaystyle 14.9$"
      ],
      "text/plain": [
       "14.9"
      ]
     },
     "execution_count": 25,
     "metadata": {},
     "output_type": "execute_result"
    }
   ],
   "source": [
    "# we can change the number of decimals\n",
    "\n",
    "sp.N(num, 3)   # this gives us 3 decimals"
   ]
  },
  {
   "cell_type": "code",
   "execution_count": 26,
   "id": "ed521604",
   "metadata": {},
   "outputs": [
    {
     "data": {
      "text/latex": [
       "$\\displaystyle \\pi + 5$"
      ],
      "text/plain": [
       "pi + 5"
      ]
     },
     "execution_count": 26,
     "metadata": {},
     "output_type": "execute_result"
    }
   ],
   "source": [
    "# we can also make constants in expressions numeric\n",
    "expr = sp.pi + 5\n",
    "expr"
   ]
  },
  {
   "cell_type": "code",
   "execution_count": null,
   "id": "fd48547a",
   "metadata": {},
   "outputs": [
    {
     "data": {
      "text/latex": [
       "$\\displaystyle 8.14159265358979$"
      ],
      "text/plain": [
       "8.14159265358979"
      ]
     },
     "execution_count": 27,
     "metadata": {},
     "output_type": "execute_result"
    }
   ],
   "source": [
    "sp.N(expr)  # converts pi into its value and adds 5"
   ]
  },
  {
   "cell_type": "markdown",
   "id": "3d379191",
   "metadata": {},
   "source": [
    "# Calculus with sympy"
   ]
  },
  {
   "cell_type": "markdown",
   "id": "92fd64cb",
   "metadata": {},
   "source": [
    "### Derivatives"
   ]
  },
  {
   "cell_type": "code",
   "execution_count": 2,
   "id": "9a73b384",
   "metadata": {},
   "outputs": [],
   "source": [
    "x, y = sp.symbols('x y')"
   ]
  },
  {
   "cell_type": "markdown",
   "id": "00a12b6e",
   "metadata": {},
   "source": [
    "#### Basic differentiation"
   ]
  },
  {
   "cell_type": "markdown",
   "id": "99a182e3",
   "metadata": {},
   "source": [
    "We can use sp.diff() to differentiate a function"
   ]
  },
  {
   "cell_type": "code",
   "execution_count": 30,
   "id": "8c86d4b9",
   "metadata": {},
   "outputs": [
    {
     "data": {
      "text/latex": [
       "$\\displaystyle e^{2 x} + \\sin{\\left(x \\right)}$"
      ],
      "text/plain": [
       "exp(2*x) + sin(x)"
      ]
     },
     "execution_count": 30,
     "metadata": {},
     "output_type": "execute_result"
    }
   ],
   "source": [
    "# defining an expression\n",
    "expr = sp.exp(2*x) + sp.sin(x)\n",
    "expr"
   ]
  },
  {
   "cell_type": "code",
   "execution_count": 31,
   "id": "03635a13",
   "metadata": {},
   "outputs": [
    {
     "data": {
      "text/latex": [
       "$\\displaystyle 2 e^{2 x} + \\cos{\\left(x \\right)}$"
      ],
      "text/plain": [
       "2*exp(2*x) + cos(x)"
      ]
     },
     "execution_count": 31,
     "metadata": {},
     "output_type": "execute_result"
    }
   ],
   "source": [
    "# we differentiate the expression\n",
    "sp.diff(expr, x)  # this gives us the derivative of the expression with respect to x, if we have one variable we don't need to specify the variable"
   ]
  },
  {
   "cell_type": "code",
   "execution_count": 33,
   "id": "99f24a7c",
   "metadata": {},
   "outputs": [
    {
     "data": {
      "text/latex": [
       "$\\displaystyle 4 e^{2 x} - \\sin{\\left(x \\right)}$"
      ],
      "text/plain": [
       "4*exp(2*x) - sin(x)"
      ]
     },
     "execution_count": 33,
     "metadata": {},
     "output_type": "execute_result"
    }
   ],
   "source": [
    "# we can differentiate multiple times\n",
    "sp.diff(sp.diff(expr))\n",
    "\n",
    "# or\n",
    "\n",
    "sp.diff(expr, x, x)\n",
    "\n",
    "# or\n",
    "\n",
    "sp.diff(expr, x, 2)"
   ]
  },
  {
   "cell_type": "markdown",
   "id": "ab095bd7",
   "metadata": {},
   "source": [
    "## Rewriting functions"
   ]
  },
  {
   "cell_type": "markdown",
   "id": "72efe500",
   "metadata": {},
   "source": [
    "We can use the .rewrite() command to to rewrite a function in terms of another function"
   ]
  },
  {
   "cell_type": "code",
   "execution_count": 4,
   "id": "9538306d",
   "metadata": {},
   "outputs": [
    {
     "data": {
      "text/latex": [
       "$\\displaystyle e^{- \\frac{e^{x}}{2}} e^{\\sinh{\\left(x \\right)}}$"
      ],
      "text/plain": [
       "exp(-exp(x)/2)*exp(sinh(x))"
      ]
     },
     "execution_count": 4,
     "metadata": {},
     "output_type": "execute_result"
    }
   ],
   "source": [
    "# our expression\n",
    "expr = sp.exp(sp.sinh(x))/sp.exp(sp.exp(x)/2)\n",
    "expr"
   ]
  },
  {
   "cell_type": "code",
   "execution_count": 6,
   "id": "e2499180",
   "metadata": {},
   "outputs": [
    {
     "data": {
      "text/latex": [
       "$\\displaystyle e^{\\frac{e^{x}}{2} - \\frac{e^{- x}}{2}} e^{- \\frac{e^{x}}{2}}$"
      ],
      "text/plain": [
       "exp(exp(x)/2 - exp(-x)/2)*exp(-exp(x)/2)"
      ]
     },
     "execution_count": 6,
     "metadata": {},
     "output_type": "execute_result"
    }
   ],
   "source": [
    "# we can rewrite everything in terms of exponential functions because sinh is a sum of exponentials\n",
    "\n",
    "expo = expr.rewrite(sp.exp)\n",
    "expo"
   ]
  },
  {
   "cell_type": "code",
   "execution_count": 7,
   "id": "c05c1b82",
   "metadata": {},
   "outputs": [
    {
     "data": {
      "text/latex": [
       "$\\displaystyle e^{- \\frac{e^{- x}}{2}}$"
      ],
      "text/plain": [
       "exp(-exp(-x)/2)"
      ]
     },
     "execution_count": 7,
     "metadata": {},
     "output_type": "execute_result"
    }
   ],
   "source": [
    "# we can now simplify\n",
    "\n",
    "expo.simplify()"
   ]
  },
  {
   "cell_type": "code",
   "execution_count": 8,
   "id": "eac9be50",
   "metadata": {},
   "outputs": [
    {
     "data": {
      "text/latex": [
       "$\\displaystyle e^{- \\frac{e^{x}}{2} + \\sinh{\\left(x \\right)}}$"
      ],
      "text/plain": [
       "exp(-exp(x)/2 + sinh(x))"
      ]
     },
     "execution_count": 8,
     "metadata": {},
     "output_type": "execute_result"
    }
   ],
   "source": [
    "# simplyfying the expression right away would not have worked, because first we need to rewrite the sinh in terms of exponentials\n",
    "expr.simplify()"
   ]
  },
  {
   "cell_type": "markdown",
   "id": "0812efb9",
   "metadata": {},
   "source": [
    "## Rewriting and partial derivatives"
   ]
  },
  {
   "cell_type": "markdown",
   "id": "06c65dae",
   "metadata": {},
   "source": [
    "we can use sp.diff() to take partial derivatives. When doing this, the rewrite function is often helpful to get the partial derivative in a specific form."
   ]
  },
  {
   "cell_type": "code",
   "execution_count": 9,
   "id": "dbcfb0e6",
   "metadata": {},
   "outputs": [
    {
     "data": {
      "text/latex": [
       "$\\displaystyle \\cos{\\left(x \\right)} \\cot^{2}{\\left(2 y \\right)}$"
      ],
      "text/plain": [
       "cos(x)*cot(2*y)**2"
      ]
     },
     "execution_count": 9,
     "metadata": {},
     "output_type": "execute_result"
    }
   ],
   "source": [
    "# defining a multivariable function\n",
    "two_variables = sp.cos(x) * sp.cot(2*y)**2\n",
    "two_variables"
   ]
  },
  {
   "cell_type": "code",
   "execution_count": 11,
   "id": "5359db54",
   "metadata": {},
   "outputs": [
    {
     "data": {
      "text/latex": [
       "$\\displaystyle \\left(- 4 \\cot^{2}{\\left(2 y \\right)} - 4\\right) \\cos{\\left(x \\right)} \\cot{\\left(2 y \\right)}$"
      ],
      "text/plain": [
       "(-4*cot(2*y)**2 - 4)*cos(x)*cot(2*y)"
      ]
     },
     "execution_count": 11,
     "metadata": {},
     "output_type": "execute_result"
    }
   ],
   "source": [
    "# differentiating with respect to y\n",
    "partial_y = sp.diff(two_variables, y)  # this gives us the derivative with respect to y\n",
    "partial_y"
   ]
  },
  {
   "cell_type": "code",
   "execution_count": 12,
   "id": "d632d85d",
   "metadata": {},
   "outputs": [
    {
     "data": {
      "text/latex": [
       "$\\displaystyle \\frac{\\left(-4 - \\frac{\\sin^{2}{\\left(4 y \\right)}}{\\sin^{4}{\\left(2 y \\right)}}\\right) \\sin{\\left(4 y \\right)} \\sin{\\left(x + \\frac{\\pi}{2} \\right)}}{2 \\sin^{2}{\\left(2 y \\right)}}$"
      ],
      "text/plain": [
       "(-4 - sin(4*y)**2/sin(2*y)**4)*sin(4*y)*sin(x + pi/2)/(2*sin(2*y)**2)"
      ]
     },
     "execution_count": 12,
     "metadata": {},
     "output_type": "execute_result"
    }
   ],
   "source": [
    "# trying to get it in a simplified form\n",
    "\n",
    "partial_y.rewrite(sp.sin)"
   ]
  },
  {
   "cell_type": "code",
   "execution_count": 14,
   "id": "1e118165",
   "metadata": {},
   "outputs": [
    {
     "data": {
      "text/latex": [
       "$\\displaystyle - \\frac{4 \\cos{\\left(x \\right)} \\cot{\\left(2 y \\right)}}{\\sin^{2}{\\left(2 y \\right)}}$"
      ],
      "text/plain": [
       "-4*cos(x)*cot(2*y)/sin(2*y)**2"
      ]
     },
     "execution_count": 14,
     "metadata": {},
     "output_type": "execute_result"
    }
   ],
   "source": [
    "# it is still very complex, so first we try to simplify the original partial_y expression\n",
    "simplified_y = partial_y.simplify()\n",
    "simplified_y"
   ]
  },
  {
   "cell_type": "code",
   "execution_count": 15,
   "id": "50346f26",
   "metadata": {},
   "outputs": [
    {
     "data": {
      "text/latex": [
       "$\\displaystyle - \\frac{2 \\sin{\\left(4 y \\right)} \\sin{\\left(x + \\frac{\\pi}{2} \\right)}}{\\sin^{4}{\\left(2 y \\right)}}$"
      ],
      "text/plain": [
       "-2*sin(4*y)*sin(x + pi/2)/sin(2*y)**4"
      ]
     },
     "execution_count": 15,
     "metadata": {},
     "output_type": "execute_result"
    }
   ],
   "source": [
    "# now we can rewrite it\n",
    "\n",
    "simplified_y.rewrite(sp.sin)"
   ]
  },
  {
   "cell_type": "code",
   "execution_count": null,
   "id": "9eaa3ae2",
   "metadata": {},
   "outputs": [
    {
     "data": {
      "text/latex": [
       "$\\displaystyle 8 \\left(\\cot^{2}{\\left(2 y \\right)} + 1\\right) \\left(3 \\cot^{2}{\\left(2 y \\right)} + 1\\right) \\sin{\\left(x \\right)}$"
      ],
      "text/plain": [
       "8*(cot(2*y)**2 + 1)*(3*cot(2*y)**2 + 1)*sin(x)"
      ]
     },
     "execution_count": 17,
     "metadata": {},
     "output_type": "execute_result"
    }
   ],
   "source": [
    "# we can try to take the third derivative with respect to x and the second with respect to y\n",
    "\n",
    "two_variables.diff(x, 3, y, 2)  # the order of differentiation does not matter."
   ]
  },
  {
   "cell_type": "markdown",
   "id": "d823fd2d",
   "metadata": {},
   "source": [
    "# Integration"
   ]
  },
  {
   "cell_type": "markdown",
   "id": "2768d9d6",
   "metadata": {},
   "source": [
    "We use sp.integrate() to do both definite and indefinite integrals"
   ]
  },
  {
   "cell_type": "code",
   "execution_count": 5,
   "id": "08088f33",
   "metadata": {},
   "outputs": [],
   "source": [
    "x, y, z = sp.symbols('x y z', real = True)  # we define the variables as real"
   ]
  },
  {
   "cell_type": "markdown",
   "id": "d52a735c",
   "metadata": {},
   "source": [
    "## Indefinite integrals"
   ]
  },
  {
   "cell_type": "code",
   "execution_count": 6,
   "id": "8360566d",
   "metadata": {},
   "outputs": [
    {
     "data": {
      "text/latex": [
       "$\\displaystyle \\sin{\\left(3 x \\right)} \\cos{\\left(2 x \\right)}$"
      ],
      "text/plain": [
       "sin(3*x)*cos(2*x)"
      ]
     },
     "execution_count": 6,
     "metadata": {},
     "output_type": "execute_result"
    }
   ],
   "source": [
    "# define a function\n",
    "f = sp.cos(2*x)*sp.sin(3*x)\n",
    "f"
   ]
  },
  {
   "cell_type": "code",
   "execution_count": 7,
   "id": "b28b360d",
   "metadata": {},
   "outputs": [
    {
     "data": {
      "text/latex": [
       "$\\displaystyle - \\frac{2 \\sin{\\left(2 x \\right)} \\sin{\\left(3 x \\right)}}{5} - \\frac{3 \\cos{\\left(2 x \\right)} \\cos{\\left(3 x \\right)}}{5}$"
      ],
      "text/plain": [
       "-2*sin(2*x)*sin(3*x)/5 - 3*cos(2*x)*cos(3*x)/5"
      ]
     },
     "execution_count": 7,
     "metadata": {},
     "output_type": "execute_result"
    }
   ],
   "source": [
    "# indefinite integral of the function\n",
    "\n",
    "sp.integrate(f)  # this gives us the indefinite integral of the function with respect to x"
   ]
  },
  {
   "cell_type": "code",
   "execution_count": 8,
   "id": "dc02f648",
   "metadata": {},
   "outputs": [
    {
     "data": {
      "text/latex": [
       "$\\displaystyle \\sin{\\left(3 x \\right)} \\cos{\\left(2 x \\right)}$"
      ],
      "text/plain": [
       "sin(3*x)*cos(2*x)"
      ]
     },
     "execution_count": 8,
     "metadata": {},
     "output_type": "execute_result"
    }
   ],
   "source": [
    "# to check this is really the integral, we can differentiate it\n",
    "\n",
    "sp.integrate(f).diff()"
   ]
  },
  {
   "cell_type": "markdown",
   "id": "50bb0354",
   "metadata": {},
   "source": [
    "The integral does not give +c as we would write in calculus, but we can add it on our own"
   ]
  },
  {
   "cell_type": "code",
   "execution_count": 9,
   "id": "29b420b7",
   "metadata": {},
   "outputs": [
    {
     "data": {
      "text/latex": [
       "$\\displaystyle C - \\frac{2 \\sin{\\left(2 x \\right)} \\sin{\\left(3 x \\right)}}{5} - \\frac{3 \\cos{\\left(2 x \\right)} \\cos{\\left(3 x \\right)}}{5}$"
      ],
      "text/plain": [
       "C - 2*sin(2*x)*sin(3*x)/5 - 3*cos(2*x)*cos(3*x)/5"
      ]
     },
     "execution_count": 9,
     "metadata": {},
     "output_type": "execute_result"
    }
   ],
   "source": [
    "C = sp.Symbol('C')\n",
    "sp.integrate(f) + C"
   ]
  },
  {
   "cell_type": "code",
   "execution_count": 10,
   "id": "4158db1d",
   "metadata": {},
   "outputs": [
    {
     "data": {
      "text/latex": [
       "$\\displaystyle - \\frac{2 \\sin{\\left(2 x \\right)} \\sin{\\left(3 x \\right)}}{5} - \\frac{3 \\cos{\\left(2 x \\right)} \\cos{\\left(3 x \\right)}}{5}$"
      ],
      "text/plain": [
       "-2*sin(2*x)*sin(3*x)/5 - 3*cos(2*x)*cos(3*x)/5"
      ]
     },
     "execution_count": 10,
     "metadata": {},
     "output_type": "execute_result"
    }
   ],
   "source": [
    "# we can emphasize the variable x\n",
    "\n",
    "sp.integrate(f,x)"
   ]
  },
  {
   "cell_type": "markdown",
   "id": "2bff032a",
   "metadata": {},
   "source": [
    "### Multivariable integration"
   ]
  },
  {
   "cell_type": "code",
   "execution_count": 11,
   "id": "fb6f57b6",
   "metadata": {},
   "outputs": [
    {
     "data": {
      "text/latex": [
       "$\\displaystyle x^{y}$"
      ],
      "text/plain": [
       "x**y"
      ]
     },
     "execution_count": 11,
     "metadata": {},
     "output_type": "execute_result"
    }
   ],
   "source": [
    "g = x**y\n",
    "g"
   ]
  },
  {
   "cell_type": "code",
   "execution_count": 12,
   "id": "56bee80d",
   "metadata": {},
   "outputs": [
    {
     "data": {
      "text/latex": [
       "$\\displaystyle \\begin{cases} \\frac{x^{y + 1}}{y + 1} & \\text{for}\\: y \\neq -1 \\\\\\log{\\left(x \\right)} & \\text{otherwise} \\end{cases}$"
      ],
      "text/plain": [
       "Piecewise((x**(y + 1)/(y + 1), Ne(y, -1)), (log(x), True))"
      ]
     },
     "execution_count": 12,
     "metadata": {},
     "output_type": "execute_result"
    }
   ],
   "source": [
    "# we integrate with respect to x\n",
    "h = sp.integrate(g, x)  # this is a symbolic integral, so we cannot expect to get a number, but a function of x and y\n",
    "h"
   ]
  },
  {
   "cell_type": "markdown",
   "id": "725f56fe",
   "metadata": {},
   "source": [
    "This is a piecewise defined function, meaning it has different expressions depending on the value of the variable"
   ]
  },
  {
   "cell_type": "code",
   "execution_count": 13,
   "id": "3725940a",
   "metadata": {},
   "outputs": [
    {
     "data": {
      "text/plain": [
       "Piecewise"
      ]
     },
     "execution_count": 13,
     "metadata": {},
     "output_type": "execute_result"
    }
   ],
   "source": [
    "type(h)"
   ]
  },
  {
   "cell_type": "code",
   "execution_count": 14,
   "id": "9a1e8521",
   "metadata": {},
   "outputs": [
    {
     "data": {
      "text/latex": [
       "$\\displaystyle \\left(\\begin{cases} \\frac{x^{y + 1}}{y + 1} & \\text{for}\\: y \\neq -1 \\\\\\log{\\left(x \\right)} & \\text{otherwise} \\end{cases}\\right) \\sin{\\left(3 x \\right)} \\cos{\\left(2 x \\right)}$"
      ],
      "text/plain": [
       "Piecewise((x**(y + 1)/(y + 1), Ne(y, -1)), (log(x), True))*sin(3*x)*cos(2*x)"
      ]
     },
     "execution_count": 14,
     "metadata": {},
     "output_type": "execute_result"
    }
   ],
   "source": [
    "# h will behave as you would expect\n",
    "\n",
    "h*f"
   ]
  },
  {
   "cell_type": "code",
   "execution_count": 15,
   "id": "008c374a",
   "metadata": {},
   "outputs": [
    {
     "data": {
      "text/latex": [
       "$\\displaystyle \\begin{cases} \\frac{x^{y + 1} \\sin{\\left(3 x \\right)} \\cos{\\left(2 x \\right)}}{y + 1} & \\text{for}\\: y > -1 \\vee y < -1 \\\\\\log{\\left(x \\right)} \\sin{\\left(3 x \\right)} \\cos{\\left(2 x \\right)} & \\text{otherwise} \\end{cases}$"
      ],
      "text/plain": [
       "Piecewise((x**(y + 1)*sin(3*x)*cos(2*x)/(y + 1), (y > -1) | (y < -1)), (log(x)*sin(3*x)*cos(2*x), True))"
      ]
     },
     "execution_count": 15,
     "metadata": {},
     "output_type": "execute_result"
    }
   ],
   "source": [
    "(h*f).simplify()"
   ]
  },
  {
   "cell_type": "markdown",
   "id": "011a9c8b",
   "metadata": {},
   "source": [
    "## Definite integrals"
   ]
  },
  {
   "cell_type": "code",
   "execution_count": 16,
   "id": "c6be57dc",
   "metadata": {},
   "outputs": [
    {
     "data": {
      "text/latex": [
       "$\\displaystyle \\sin{\\left(3 x \\right)} \\cos{\\left(2 x \\right)}$"
      ],
      "text/plain": [
       "sin(3*x)*cos(2*x)"
      ]
     },
     "execution_count": 16,
     "metadata": {},
     "output_type": "execute_result"
    }
   ],
   "source": [
    "f"
   ]
  },
  {
   "cell_type": "code",
   "execution_count": 17,
   "id": "8660743b",
   "metadata": {},
   "outputs": [
    {
     "data": {
      "text/latex": [
       "$\\displaystyle \\frac{6}{5}$"
      ],
      "text/plain": [
       "6/5"
      ]
     },
     "execution_count": 17,
     "metadata": {},
     "output_type": "execute_result"
    }
   ],
   "source": [
    "# we can specify the limits of integration\n",
    "\n",
    "sp.integrate(f, (x, 0, sp.pi))  # this gives us the definite integral of the function with respect to x from 0 to pi"
   ]
  },
  {
   "cell_type": "markdown",
   "id": "0804afac",
   "metadata": {},
   "source": [
    "### Example"
   ]
  },
  {
   "cell_type": "code",
   "execution_count": 18,
   "id": "972f1180",
   "metadata": {},
   "outputs": [
    {
     "data": {
      "text/latex": [
       "$\\displaystyle e^{- x}$"
      ],
      "text/plain": [
       "exp(-x)"
      ]
     },
     "execution_count": 18,
     "metadata": {},
     "output_type": "execute_result"
    }
   ],
   "source": [
    "u = sp.exp(-x)\n",
    "u"
   ]
  },
  {
   "cell_type": "code",
   "execution_count": 19,
   "id": "cf2e99e3",
   "metadata": {},
   "outputs": [
    {
     "data": {
      "text/latex": [
       "$\\displaystyle 1$"
      ],
      "text/plain": [
       "1"
      ]
     },
     "execution_count": 19,
     "metadata": {},
     "output_type": "execute_result"
    }
   ],
   "source": [
    "# we integrate the function from 0 to infinity\n",
    "\n",
    "sp.integrate(u, (x, 0, sp.oo))"
   ]
  },
  {
   "cell_type": "markdown",
   "id": "8744f0c9",
   "metadata": {},
   "source": [
    "## Multivariable integrals"
   ]
  },
  {
   "cell_type": "code",
   "execution_count": 20,
   "id": "b168059f",
   "metadata": {},
   "outputs": [
    {
     "data": {
      "text/latex": [
       "$\\displaystyle x y z^{2}$"
      ],
      "text/plain": [
       "x*y*z**2"
      ]
     },
     "execution_count": 20,
     "metadata": {},
     "output_type": "execute_result"
    }
   ],
   "source": [
    "w = x*y*z**2\n",
    "w"
   ]
  },
  {
   "cell_type": "code",
   "execution_count": 21,
   "id": "30eb441a",
   "metadata": {},
   "outputs": [
    {
     "data": {
      "text/latex": [
       "$\\displaystyle \\frac{x^{2} y^{2} z^{2}}{4}$"
      ],
      "text/plain": [
       "x**2*y**2*z**2/4"
      ]
     },
     "execution_count": 21,
     "metadata": {},
     "output_type": "execute_result"
    }
   ],
   "source": [
    "#indefinite integral with respect to x and y\n",
    "sp.integrate(w, x, y)"
   ]
  },
  {
   "cell_type": "code",
   "execution_count": 22,
   "id": "bf9fbb0a",
   "metadata": {},
   "outputs": [
    {
     "data": {
      "text/latex": [
       "$\\displaystyle 54$"
      ],
      "text/plain": [
       "54"
      ]
     },
     "execution_count": 22,
     "metadata": {},
     "output_type": "execute_result"
    }
   ],
   "source": [
    "# definite integral with respect to x, y, z with integration limits specified for each variable\n",
    "sp.integrate(w, (x, 0, 1), (y, 1, 5), (z, 0, 3))"
   ]
  },
  {
   "cell_type": "markdown",
   "id": "3622545e",
   "metadata": {},
   "source": [
    "# Limits and series"
   ]
  },
  {
   "cell_type": "markdown",
   "id": "25f3e494",
   "metadata": {},
   "source": [
    "## Limits"
   ]
  },
  {
   "cell_type": "code",
   "execution_count": 23,
   "id": "787a3f06",
   "metadata": {},
   "outputs": [
    {
     "data": {
      "text/latex": [
       "$\\displaystyle x^{2}$"
      ],
      "text/plain": [
       "x**2"
      ]
     },
     "execution_count": 23,
     "metadata": {},
     "output_type": "execute_result"
    }
   ],
   "source": [
    "x = sp.Symbol('x')\n",
    "expr = x ** 2\n",
    "expr"
   ]
  },
  {
   "cell_type": "code",
   "execution_count": 28,
   "id": "11b21bd1",
   "metadata": {},
   "outputs": [
    {
     "data": {
      "text/latex": [
       "$\\displaystyle 1$"
      ],
      "text/plain": [
       "1"
      ]
     },
     "execution_count": 28,
     "metadata": {},
     "output_type": "execute_result"
    }
   ],
   "source": [
    "# we take the limit for x going to 1\n",
    "\n",
    "sp.limit(expr, x, 1)"
   ]
  },
  {
   "cell_type": "markdown",
   "id": "2acead67",
   "metadata": {},
   "source": [
    "Since $x^2$ is a continuous function, taking the limit just equates to substituting 1 into the equation."
   ]
  },
  {
   "cell_type": "code",
   "execution_count": 27,
   "id": "058cd831",
   "metadata": {},
   "outputs": [
    {
     "data": {
      "text/latex": [
       "$\\displaystyle 1$"
      ],
      "text/plain": [
       "1"
      ]
     },
     "execution_count": 27,
     "metadata": {},
     "output_type": "execute_result"
    }
   ],
   "source": [
    "expr.subs(x, 1)"
   ]
  },
  {
   "cell_type": "markdown",
   "id": "03849e9d",
   "metadata": {},
   "source": [
    "### Limits at infinity"
   ]
  },
  {
   "cell_type": "code",
   "execution_count": 29,
   "id": "079fc5b3",
   "metadata": {},
   "outputs": [
    {
     "data": {
      "text/latex": [
       "$\\displaystyle x e^{- x}$"
      ],
      "text/plain": [
       "x*exp(-x)"
      ]
     },
     "execution_count": 29,
     "metadata": {},
     "output_type": "execute_result"
    }
   ],
   "source": [
    "# Rapidly decaying function\n",
    "\n",
    "exponential = x/sp.exp(x)\n",
    "exponential"
   ]
  },
  {
   "cell_type": "code",
   "execution_count": 30,
   "id": "2998df59",
   "metadata": {},
   "outputs": [
    {
     "data": {
      "text/latex": [
       "$\\displaystyle 0$"
      ],
      "text/plain": [
       "0"
      ]
     },
     "execution_count": 30,
     "metadata": {},
     "output_type": "execute_result"
    }
   ],
   "source": [
    "# Taking the limit\n",
    "sp.limit(exponential, x, sp.oo)"
   ]
  },
  {
   "cell_type": "markdown",
   "id": "ae6a2466",
   "metadata": {},
   "source": [
    "Substitution does not work here because the function value is not defined at infinity, but the limit is"
   ]
  },
  {
   "cell_type": "markdown",
   "id": "89d58efc",
   "metadata": {},
   "source": [
    "### Watch out! Limits are always taken from the right"
   ]
  },
  {
   "cell_type": "code",
   "execution_count": 32,
   "id": "e800aa5a",
   "metadata": {},
   "outputs": [
    {
     "data": {
      "text/latex": [
       "$\\displaystyle \\frac{1}{x}$"
      ],
      "text/plain": [
       "1/x"
      ]
     },
     "execution_count": 32,
     "metadata": {},
     "output_type": "execute_result"
    }
   ],
   "source": [
    "expr = 1/x\n",
    "expr"
   ]
  },
  {
   "cell_type": "code",
   "execution_count": null,
   "id": "4012eb8f",
   "metadata": {},
   "outputs": [
    {
     "data": {
      "text/latex": [
       "$\\displaystyle \\infty$"
      ],
      "text/plain": [
       "oo"
      ]
     },
     "execution_count": 33,
     "metadata": {},
     "output_type": "execute_result"
    }
   ],
   "source": [
    "# limit is by default the right limit in sympy (x goes to 0 from the right)\n",
    "\n",
    "sp.limit(expr, x, 0)"
   ]
  },
  {
   "cell_type": "code",
   "execution_count": 36,
   "id": "9f0a5da0",
   "metadata": {},
   "outputs": [
    {
     "data": {
      "text/latex": [
       "$\\displaystyle -\\infty$"
      ],
      "text/plain": [
       "-oo"
      ]
     },
     "execution_count": 36,
     "metadata": {},
     "output_type": "execute_result"
    }
   ],
   "source": [
    "# the limit from the left would give -oo\n",
    "sp.limit(expr, x, 0, '-')  # this gives us the limit from the left"
   ]
  },
  {
   "cell_type": "code",
   "execution_count": 35,
   "id": "a1d1ed69",
   "metadata": {},
   "outputs": [
    {
     "data": {
      "text/latex": [
       "$\\displaystyle \\tilde{\\infty}$"
      ],
      "text/plain": [
       "zoo"
      ]
     },
     "execution_count": 35,
     "metadata": {},
     "output_type": "execute_result"
    }
   ],
   "source": [
    "# getting both right and left limits\n",
    "sp.limit(expr, x, 0, '+-')"
   ]
  },
  {
   "cell_type": "markdown",
   "id": "268247fb",
   "metadata": {},
   "source": [
    "We get a tilde symbol to indicate that the two limits are not the same"
   ]
  },
  {
   "cell_type": "markdown",
   "id": "972ba0b0",
   "metadata": {},
   "source": [
    "## Series"
   ]
  },
  {
   "cell_type": "markdown",
   "id": "4dce530b",
   "metadata": {},
   "source": [
    "We can locally expand functions with a Taylor series"
   ]
  },
  {
   "cell_type": "code",
   "execution_count": null,
   "id": "16dfe8b9",
   "metadata": {},
   "outputs": [
    {
     "data": {
      "text/latex": [
       "$\\displaystyle 1 - \\frac{\\left(x - \\frac{\\pi}{2}\\right)^{2}}{2} + \\frac{\\left(x - \\frac{\\pi}{2}\\right)^{4}}{24} + O\\left(\\left(x - \\frac{\\pi}{2}\\right)^{6}; x\\rightarrow \\frac{\\pi}{2}\\right)$"
      ],
      "text/plain": [
       "1 - (x - pi/2)**2/2 + (x - pi/2)**4/24 + O((x - pi/2)**6, (x, pi/2))"
      ]
     },
     "execution_count": 37,
     "metadata": {},
     "output_type": "execute_result"
    }
   ],
   "source": [
    "# finding the taylor series of sin(x) at x = pi/2\n",
    "sp.series(sp.sin(x), x, sp.pi/2)\n"
   ]
  },
  {
   "cell_type": "markdown",
   "id": "9b6796ee",
   "metadata": {},
   "source": [
    "**What we can do with Taylor series**"
   ]
  },
  {
   "cell_type": "code",
   "execution_count": 38,
   "id": "71c01b94",
   "metadata": {},
   "outputs": [
    {
     "data": {
      "text/latex": [
       "$\\displaystyle e^{\\sin{\\left(x \\right)}}$"
      ],
      "text/plain": [
       "exp(sin(x))"
      ]
     },
     "execution_count": 38,
     "metadata": {},
     "output_type": "execute_result"
    }
   ],
   "source": [
    "expr = sp.exp(sp.sin(x))\n",
    "expr"
   ]
  },
  {
   "cell_type": "code",
   "execution_count": null,
   "id": "48c0e13d",
   "metadata": {},
   "outputs": [
    {
     "data": {
      "text/latex": [
       "$\\displaystyle 1 + x + \\frac{x^{2}}{2} - \\frac{x^{4}}{8} - \\frac{x^{5}}{15} - \\frac{x^{6}}{240} + \\frac{x^{7}}{90} + O\\left(x^{8}\\right)$"
      ],
      "text/plain": [
       "1 + x + x**2/2 - x**4/8 - x**5/15 - x**6/240 + x**7/90 + O(x**8)"
      ]
     },
     "execution_count": 40,
     "metadata": {},
     "output_type": "execute_result"
    }
   ],
   "source": [
    "sp.series(expr, x, 0, 8)  # this gives us the taylor series of the function at x = 0 up to the 8th order term"
   ]
  },
  {
   "cell_type": "code",
   "execution_count": null,
   "id": "767434db",
   "metadata": {},
   "outputs": [
    {
     "data": {
      "text/latex": [
       "$\\displaystyle x + x^{2} + \\frac{x^{3}}{3} - \\frac{x^{4}}{6} - \\frac{x^{5}}{5} + O\\left(x^{6}\\right)$"
      ],
      "text/plain": [
       "x + x**2 + x**3/3 - x**4/6 - x**5/5 + O(x**6)"
      ]
     },
     "execution_count": 42,
     "metadata": {},
     "output_type": "execute_result"
    }
   ],
   "source": [
    "# We can do arithmetics with Taylor expansions\n",
    "\n",
    "(sp.series(expr, x, 0, 8)*sp.series(sp.sin(x), x, 0, 6)).expand()\n",
    "\n",
    "# the expand command athe the end is not necessary, but it is useful to see the result in a more readable form"
   ]
  },
  {
   "cell_type": "code",
   "execution_count": 44,
   "id": "c9d2a82e",
   "metadata": {},
   "outputs": [
    {
     "data": {
      "text/latex": [
       "$\\displaystyle 1 + x - \\frac{x^{3}}{2} - \\frac{x^{4}}{3} - \\frac{x^{5}}{40} + \\frac{7 x^{6}}{90} + O\\left(x^{7}\\right)$"
      ],
      "text/plain": [
       "1 + x - x**3/2 - x**4/3 - x**5/40 + 7*x**6/90 + O(x**7)"
      ]
     },
     "execution_count": 44,
     "metadata": {},
     "output_type": "execute_result"
    }
   ],
   "source": [
    "# We can differentiate and integrate Taylor series\n",
    "\n",
    "sp.diff(sp.series(expr, x, 0, 8))"
   ]
  },
  {
   "cell_type": "code",
   "execution_count": 45,
   "id": "4421da5a",
   "metadata": {},
   "outputs": [
    {
     "data": {
      "text/latex": [
       "$\\displaystyle x + \\frac{x^{2}}{2} + \\frac{x^{3}}{6} - \\frac{x^{5}}{40} - \\frac{x^{6}}{90} - \\frac{x^{7}}{1680} + \\frac{x^{8}}{720} + O\\left(x^{9}\\right)$"
      ],
      "text/plain": [
       "x + x**2/2 + x**3/6 - x**5/40 - x**6/90 - x**7/1680 + x**8/720 + O(x**9)"
      ]
     },
     "execution_count": 45,
     "metadata": {},
     "output_type": "execute_result"
    }
   ],
   "source": [
    "sp.integrate(sp.series(expr, x, 0, 8))"
   ]
  },
  {
   "cell_type": "code",
   "execution_count": null,
   "id": "a2d79cdf",
   "metadata": {},
   "outputs": [
    {
     "data": {
      "text/latex": [
       "$\\displaystyle \\frac{x^{7}}{90} - \\frac{x^{6}}{240} - \\frac{x^{5}}{15} - \\frac{x^{4}}{8} + \\frac{x^{2}}{2} + x + 1$"
      ],
      "text/plain": [
       "x**7/90 - x**6/240 - x**5/15 - x**4/8 + x**2/2 + x + 1"
      ]
     },
     "execution_count": 46,
     "metadata": {},
     "output_type": "execute_result"
    }
   ],
   "source": [
    "# we can remove the big O term at the end of the series\n",
    "sp.series(expr, x, 0, 8).removeO()  # this gives us the series without the big O term\n"
   ]
  },
  {
   "cell_type": "markdown",
   "id": "497f128d",
   "metadata": {},
   "source": [
    "# Ordinary differential equations"
   ]
  },
  {
   "cell_type": "code",
   "execution_count": 47,
   "id": "98246175",
   "metadata": {},
   "outputs": [],
   "source": [
    "x = sp.Symbol('x')"
   ]
  },
  {
   "cell_type": "markdown",
   "id": "76fd42a5",
   "metadata": {},
   "source": [
    "The goal is to solve the ODE:\\\n",
    "\\\n",
    "$xf''(x) + f'(x) = x^3$\n",
    "\n",
    "With initial conditions $f(1)=0$ and $f'(2)=1$"
   ]
  },
  {
   "cell_type": "code",
   "execution_count": 48,
   "id": "957a8fdd",
   "metadata": {},
   "outputs": [
    {
     "data": {
      "text/latex": [
       "$\\displaystyle f{\\left(x \\right)}$"
      ],
      "text/plain": [
       "f(x)"
      ]
     },
     "execution_count": 48,
     "metadata": {},
     "output_type": "execute_result"
    }
   ],
   "source": [
    "# First we need to create the function object 'f'\n",
    "f = sp.Function('f')(x)  # this creates a function f of variable x\n",
    "f"
   ]
  },
  {
   "cell_type": "code",
   "execution_count": 49,
   "id": "6a0118c1",
   "metadata": {},
   "outputs": [
    {
     "data": {
      "text/latex": [
       "$\\displaystyle \\frac{d}{d x} f{\\left(x \\right)}$"
      ],
      "text/plain": [
       "Derivative(f(x), x)"
      ]
     },
     "execution_count": 49,
     "metadata": {},
     "output_type": "execute_result"
    }
   ],
   "source": [
    "# we can take the derivative\n",
    "sp.diff(f, x)"
   ]
  },
  {
   "cell_type": "code",
   "execution_count": 50,
   "id": "fa6dd194",
   "metadata": {},
   "outputs": [
    {
     "data": {
      "text/latex": [
       "$\\displaystyle \\int f{\\left(x \\right)}\\, dx$"
      ],
      "text/plain": [
       "Integral(f(x), x)"
      ]
     },
     "execution_count": 50,
     "metadata": {},
     "output_type": "execute_result"
    }
   ],
   "source": [
    "# the integral\n",
    "sp.integrate(f, x)"
   ]
  },
  {
   "cell_type": "code",
   "execution_count": null,
   "id": "66ee4be3",
   "metadata": {},
   "outputs": [
    {
     "data": {
      "text/latex": [
       "$\\displaystyle x \\frac{d^{2}}{d x^{2}} f{\\left(x \\right)} + \\frac{d}{d x} f{\\left(x \\right)} = x^{3}$"
      ],
      "text/plain": [
       "Eq(x*Derivative(f(x), (x, 2)) + Derivative(f(x), x), x**3)"
      ]
     },
     "execution_count": 52,
     "metadata": {},
     "output_type": "execute_result"
    }
   ],
   "source": [
    "# we sill now create the differential equation\n",
    "\n",
    "diff_eq = sp.Eq(x*f.diff(x, 2)+f.diff(x), x**3)  # The left hand side is before the comma and the right hand side after the comma\n",
    "diff_eq"
   ]
  },
  {
   "cell_type": "code",
   "execution_count": 53,
   "id": "b739557e",
   "metadata": {},
   "outputs": [
    {
     "data": {
      "text/latex": [
       "$\\displaystyle x \\frac{d^{2}}{d x^{2}} f{\\left(x \\right)} + \\frac{d}{d x} f{\\left(x \\right)}$"
      ],
      "text/plain": [
       "x*Derivative(f(x), (x, 2)) + Derivative(f(x), x)"
      ]
     },
     "execution_count": 53,
     "metadata": {},
     "output_type": "execute_result"
    }
   ],
   "source": [
    "# we can get the left hand side of the equation\n",
    "diff_eq.lhs"
   ]
  },
  {
   "cell_type": "code",
   "execution_count": 54,
   "id": "3df7583c",
   "metadata": {},
   "outputs": [
    {
     "data": {
      "text/latex": [
       "$\\displaystyle x^{3}$"
      ],
      "text/plain": [
       "x**3"
      ]
     },
     "execution_count": 54,
     "metadata": {},
     "output_type": "execute_result"
    }
   ],
   "source": [
    "# and the right hand side\n",
    "diff_eq.rhs"
   ]
  },
  {
   "cell_type": "markdown",
   "id": "204743ad",
   "metadata": {},
   "source": [
    "## Solving the ODE"
   ]
  },
  {
   "cell_type": "markdown",
   "id": "adc6c570",
   "metadata": {},
   "source": [
    "We can use the .dsolve() function"
   ]
  },
  {
   "cell_type": "code",
   "execution_count": 55,
   "id": "6a71d684",
   "metadata": {},
   "outputs": [
    {
     "data": {
      "text/latex": [
       "$\\displaystyle f{\\left(x \\right)} = C_{1} + C_{2} \\log{\\left(x \\right)} + \\frac{x^{4}}{16}$"
      ],
      "text/plain": [
       "Eq(f(x), C1 + C2*log(x) + x**4/16)"
      ]
     },
     "execution_count": 55,
     "metadata": {},
     "output_type": "execute_result"
    }
   ],
   "source": [
    "# solving the ode\n",
    "sol = sp.dsolve(diff_eq, f)   # this solves the equation with respect to f\n",
    "sol"
   ]
  },
  {
   "cell_type": "code",
   "execution_count": 56,
   "id": "3640fea5",
   "metadata": {},
   "outputs": [
    {
     "data": {
      "text/plain": [
       "sympy.core.relational.Equality"
      ]
     },
     "execution_count": 56,
     "metadata": {},
     "output_type": "execute_result"
    }
   ],
   "source": [
    "# type of the solution\n",
    "type(sol)"
   ]
  },
  {
   "cell_type": "code",
   "execution_count": 57,
   "id": "761b1e07",
   "metadata": {},
   "outputs": [
    {
     "data": {
      "text/latex": [
       "$\\displaystyle C_{1} + C_{2} \\log{\\left(x \\right)} + \\frac{x^{4}}{16}$"
      ],
      "text/plain": [
       "C1 + C2*log(x) + x**4/16"
      ]
     },
     "execution_count": 57,
     "metadata": {},
     "output_type": "execute_result"
    }
   ],
   "source": [
    "# we can get just the right hand side of the solution\n",
    "exp = sol.rhs\n",
    "exp"
   ]
  },
  {
   "cell_type": "code",
   "execution_count": 58,
   "id": "f59feeea",
   "metadata": {},
   "outputs": [
    {
     "data": {
      "text/plain": [
       "{C1, C2, x}"
      ]
     },
     "execution_count": 58,
     "metadata": {},
     "output_type": "execute_result"
    }
   ],
   "source": [
    "# we have not named C1, C2 and x, as can be seen by the free_symbols command\n",
    "exp.free_symbols"
   ]
  },
  {
   "cell_type": "code",
   "execution_count": 60,
   "id": "abe3f802",
   "metadata": {},
   "outputs": [
    {
     "data": {
      "text/plain": [
       "(x, C1, C2)"
      ]
     },
     "execution_count": 60,
     "metadata": {},
     "output_type": "execute_result"
    }
   ],
   "source": [
    "# we can write the set of free symbols as a tuple so we can use it more easily\n",
    "tuple(exp.free_symbols) "
   ]
  },
  {
   "cell_type": "code",
   "execution_count": 65,
   "id": "b4c2d8f4",
   "metadata": {},
   "outputs": [
    {
     "data": {
      "text/plain": [
       "(C2, C1)"
      ]
     },
     "execution_count": 65,
     "metadata": {},
     "output_type": "execute_result"
    }
   ],
   "source": [
    "# to assign x, C1, C2 to variables, we can use the free_symbols command and unpack the tuple\n",
    "_, C1, C2 = tuple(exp.free_symbols) # we don't need to assign x to a variable because we already have it defined as a symbol\n",
    "C2, C1"
   ]
  },
  {
   "cell_type": "code",
   "execution_count": null,
   "id": "4bb980ee",
   "metadata": {},
   "outputs": [
    {
     "data": {
      "text/latex": [
       "$\\displaystyle \\frac{x^{4}}{16} + \\log{\\left(x \\right)}$"
      ],
      "text/plain": [
       "x**4/16 + log(x)"
      ]
     },
     "execution_count": 66,
     "metadata": {},
     "output_type": "execute_result"
    }
   ],
   "source": [
    "# We want to set C1 = 0 and C2 = 1\n",
    "exp.subs({C1: 0, C2: 1}) # this substitution is done via a dictionary, and it is useful if we have a lot of subs to do"
   ]
  },
  {
   "cell_type": "markdown",
   "id": "bd63e482",
   "metadata": {},
   "source": [
    "## Giving initial conditions"
   ]
  },
  {
   "cell_type": "code",
   "execution_count": 68,
   "id": "f5b5347a",
   "metadata": {},
   "outputs": [
    {
     "data": {
      "text/plain": [
       "{f(1): 0, Subs(Derivative(f(x), x), x, 2): 1}"
      ]
     },
     "execution_count": 68,
     "metadata": {},
     "output_type": "execute_result"
    }
   ],
   "source": [
    "# we write a dictionary with the initial conditions\n",
    "ics = {f.subs(x, 1): 0, f.diff(x).subs(x, 2): 1}\n",
    "ics"
   ]
  },
  {
   "cell_type": "code",
   "execution_count": null,
   "id": "0e452dc5",
   "metadata": {},
   "outputs": [
    {
     "data": {
      "text/latex": [
       "$\\displaystyle f{\\left(x \\right)} = \\frac{x^{4}}{16} - 2 \\log{\\left(x \\right)} - \\frac{1}{16}$"
      ],
      "text/plain": [
       "Eq(f(x), x**4/16 - 2*log(x) - 1/16)"
      ]
     },
     "execution_count": 69,
     "metadata": {},
     "output_type": "execute_result"
    }
   ],
   "source": [
    "# solving initial values problem\n",
    "\n",
    "ivp = sp.dsolve(diff_eq, ics=ics)   # the ics parametre requires a dictionary with the initial conditions which we called ics too\n",
    "ivp"
   ]
  },
  {
   "cell_type": "code",
   "execution_count": 71,
   "id": "4f16792a",
   "metadata": {},
   "outputs": [
    {
     "data": {
      "text/latex": [
       "$\\displaystyle \\frac{x^{4}}{16} - 2 \\log{\\left(x \\right)} - \\frac{1}{16}$"
      ],
      "text/plain": [
       "x**4/16 - 2*log(x) - 1/16"
      ]
     },
     "execution_count": 71,
     "metadata": {},
     "output_type": "execute_result"
    }
   ],
   "source": [
    "# we can see the right hand side\n",
    "ivp = ivp.rhs\n",
    "ivp"
   ]
  },
  {
   "cell_type": "code",
   "execution_count": null,
   "id": "63696eb0",
   "metadata": {},
   "outputs": [
    {
     "data": {
      "text/latex": [
       "$\\displaystyle 0$"
      ],
      "text/plain": [
       "0"
      ]
     },
     "execution_count": 72,
     "metadata": {},
     "output_type": "execute_result"
    }
   ],
   "source": [
    "# we can check that this satisfies the initial conditions\n",
    "ivp.subs(x, 1) # this should give us 0"
   ]
  },
  {
   "cell_type": "code",
   "execution_count": null,
   "id": "09440d07",
   "metadata": {},
   "outputs": [
    {
     "data": {
      "text/latex": [
       "$\\displaystyle 1$"
      ],
      "text/plain": [
       "1"
      ]
     },
     "execution_count": 75,
     "metadata": {},
     "output_type": "execute_result"
    }
   ],
   "source": [
    "ivp.diff().subs(x, 2) # this should give us 1"
   ]
  },
  {
   "cell_type": "code",
   "execution_count": 77,
   "id": "18710228",
   "metadata": {},
   "outputs": [
    {
     "data": {
      "text/latex": [
       "$\\displaystyle 0$"
      ],
      "text/plain": [
       "0"
      ]
     },
     "execution_count": 77,
     "metadata": {},
     "output_type": "execute_result"
    }
   ],
   "source": [
    "# we can also check that the solution satisfies the ode\n",
    "\n",
    "sp.simplify(x * ivp.diff(x, 2) + ivp.diff(x) - x**3)"
   ]
  },
  {
   "cell_type": "markdown",
   "id": "4ddf3e28",
   "metadata": {},
   "source": [
    "# Going numerical"
   ]
  },
  {
   "cell_type": "markdown",
   "id": "3a72adc8",
   "metadata": {},
   "source": [
    "Other python libraries, for example numpy and matplotlib, require numerical inputs. In this section we will see how to obtain numerical results from sympy."
   ]
  },
  {
   "cell_type": "code",
   "execution_count": 78,
   "id": "2580d6a4",
   "metadata": {},
   "outputs": [],
   "source": [
    "x = sp.Symbol('x')\n"
   ]
  },
  {
   "cell_type": "markdown",
   "id": "2441e136",
   "metadata": {},
   "source": [
    "## Floating-point numbers with Evalf"
   ]
  },
  {
   "cell_type": "markdown",
   "id": "abfa7842",
   "metadata": {},
   "source": [
    "We have seen that we can use subs() to substitute values into an expression, but to be able to get floating-point numbers we will need evalf()"
   ]
  },
  {
   "cell_type": "code",
   "execution_count": 80,
   "id": "df9a2c50",
   "metadata": {},
   "outputs": [
    {
     "data": {
      "text/latex": [
       "$\\displaystyle \\pi x^{2} + 5 x + e$"
      ],
      "text/plain": [
       "pi*x**2 + 5*x + E"
      ]
     },
     "execution_count": 80,
     "metadata": {},
     "output_type": "execute_result"
    }
   ],
   "source": [
    "expr = sp.pi * x**2 + 5*x + sp.E\n",
    "expr"
   ]
  },
  {
   "cell_type": "code",
   "execution_count": 83,
   "id": "daad7de0",
   "metadata": {},
   "outputs": [
    {
     "data": {
      "text/latex": [
       "$\\displaystyle e + \\pi + 5$"
      ],
      "text/plain": [
       "E + pi + 5"
      ]
     },
     "execution_count": 83,
     "metadata": {},
     "output_type": "execute_result"
    }
   ],
   "source": [
    "value = expr.subs(x, 1)\n",
    "value"
   ]
  },
  {
   "cell_type": "markdown",
   "id": "0534ca8e",
   "metadata": {},
   "source": [
    "Sympy does not store this value as a floating point number but as a sum of mathematical symbols. However, we can force it to convert those symbols into their value as floating-point numbers and sum them numerically."
   ]
  },
  {
   "cell_type": "code",
   "execution_count": 84,
   "id": "b3bca306",
   "metadata": {},
   "outputs": [
    {
     "data": {
      "text/latex": [
       "$\\displaystyle 10.8598744820488$"
      ],
      "text/plain": [
       "10.8598744820488"
      ]
     },
     "execution_count": 84,
     "metadata": {},
     "output_type": "execute_result"
    }
   ],
   "source": [
    "value.evalf()"
   ]
  },
  {
   "cell_type": "code",
   "execution_count": 85,
   "id": "8eb232ec",
   "metadata": {},
   "outputs": [
    {
     "data": {
      "text/latex": [
       "$\\displaystyle 10.9$"
      ],
      "text/plain": [
       "10.9"
      ]
     },
     "execution_count": 85,
     "metadata": {},
     "output_type": "execute_result"
    }
   ],
   "source": [
    "# we can specify the precision\n",
    "value.evalf(3)"
   ]
  },
  {
   "cell_type": "code",
   "execution_count": null,
   "id": "388bca3c",
   "metadata": {},
   "outputs": [
    {
     "data": {
      "text/latex": [
       "$\\displaystyle 10.9$"
      ],
      "text/plain": [
       "10.9"
      ]
     },
     "execution_count": 86,
     "metadata": {},
     "output_type": "execute_result"
    }
   ],
   "source": [
    "# alternative syntax\n",
    "sp.N(value, 3)  # N is for numerical"
   ]
  },
  {
   "cell_type": "markdown",
   "id": "87df8a9f",
   "metadata": {},
   "source": [
    "### Lambdify "
   ]
  },
  {
   "cell_type": "markdown",
   "id": "b53e607c",
   "metadata": {},
   "source": [
    "Since using .evalf() is very slow if we have many points we want to evaluate our expression at (for example if we want to plot it), then we should use lambdify instead."
   ]
  },
  {
   "cell_type": "code",
   "execution_count": 88,
   "id": "89d86a4a",
   "metadata": {},
   "outputs": [
    {
     "data": {
      "text/plain": [
       "<function _lambdifygenerated(x)>"
      ]
     },
     "execution_count": 88,
     "metadata": {},
     "output_type": "execute_result"
    }
   ],
   "source": [
    "# lambdifying the expression\n",
    "lambdified_expression = sp.lambdify(x, expr)\n",
    "lambdified_expression"
   ]
  },
  {
   "cell_type": "code",
   "execution_count": null,
   "id": "d9cc6e69",
   "metadata": {},
   "outputs": [
    {
     "data": {
      "text/plain": [
       "10.859874482048838"
      ]
     },
     "execution_count": 89,
     "metadata": {},
     "output_type": "execute_result"
    }
   ],
   "source": [
    "# now we can easily evaluate the expression at any point\n",
    "lambdified_expression(1)"
   ]
  },
  {
   "cell_type": "code",
   "execution_count": 91,
   "id": "82cb48de",
   "metadata": {},
   "outputs": [
    {
     "data": {
      "text/plain": [
       "array([-20.        , -19.5959596 , -19.19191919, -18.78787879,\n",
       "       -18.38383838, -17.97979798, -17.57575758, -17.17171717,\n",
       "       -16.76767677, -16.36363636, -15.95959596, -15.55555556,\n",
       "       -15.15151515, -14.74747475, -14.34343434, -13.93939394,\n",
       "       -13.53535354, -13.13131313, -12.72727273, -12.32323232,\n",
       "       -11.91919192, -11.51515152, -11.11111111, -10.70707071,\n",
       "       -10.3030303 ,  -9.8989899 ,  -9.49494949,  -9.09090909,\n",
       "        -8.68686869,  -8.28282828,  -7.87878788,  -7.47474747,\n",
       "        -7.07070707,  -6.66666667,  -6.26262626,  -5.85858586,\n",
       "        -5.45454545,  -5.05050505,  -4.64646465,  -4.24242424,\n",
       "        -3.83838384,  -3.43434343,  -3.03030303,  -2.62626263,\n",
       "        -2.22222222,  -1.81818182,  -1.41414141,  -1.01010101,\n",
       "        -0.60606061,  -0.2020202 ,   0.2020202 ,   0.60606061,\n",
       "         1.01010101,   1.41414141,   1.81818182,   2.22222222,\n",
       "         2.62626263,   3.03030303,   3.43434343,   3.83838384,\n",
       "         4.24242424,   4.64646465,   5.05050505,   5.45454545,\n",
       "         5.85858586,   6.26262626,   6.66666667,   7.07070707,\n",
       "         7.47474747,   7.87878788,   8.28282828,   8.68686869,\n",
       "         9.09090909,   9.49494949,   9.8989899 ,  10.3030303 ,\n",
       "        10.70707071,  11.11111111,  11.51515152,  11.91919192,\n",
       "        12.32323232,  12.72727273,  13.13131313,  13.53535354,\n",
       "        13.93939394,  14.34343434,  14.74747475,  15.15151515,\n",
       "        15.55555556,  15.95959596,  16.36363636,  16.76767677,\n",
       "        17.17171717,  17.57575758,  17.97979798,  18.38383838,\n",
       "        18.78787879,  19.19191919,  19.5959596 ,  20.        ])"
      ]
     },
     "execution_count": 91,
     "metadata": {},
     "output_type": "execute_result"
    }
   ],
   "source": [
    "# we can use numpy to create many points at once\n",
    "\n",
    "points = np.linspace(-20, 20, 100)\n",
    "points"
   ]
  },
  {
   "cell_type": "code",
   "execution_count": 93,
   "id": "b969dd6d",
   "metadata": {},
   "outputs": [
    {
     "data": {
      "text/plain": [
       "array([1.15935534e+03, 1.11111519e+03, 1.06390076e+03, 1.01771205e+03,\n",
       "       9.72549065e+02, 9.28411799e+02, 8.85300255e+02, 8.43214432e+02,\n",
       "       8.02154331e+02, 7.62119951e+02, 7.23111293e+02, 6.85128356e+02,\n",
       "       6.48171141e+02, 6.12239647e+02, 5.77333875e+02, 5.43453824e+02,\n",
       "       5.10599495e+02, 4.78770887e+02, 4.47968001e+02, 4.18190836e+02,\n",
       "       3.89439393e+02, 3.61713671e+02, 3.35013671e+02, 3.09339392e+02,\n",
       "       2.84690835e+02, 2.61068000e+02, 2.38470886e+02, 2.16899493e+02,\n",
       "       1.96353822e+02, 1.76833872e+02, 1.58339644e+02, 1.40871137e+02,\n",
       "       1.24428352e+02, 1.09011289e+02, 9.46199466e+01, 8.12543260e+01,\n",
       "       6.89144269e+01, 5.76002493e+01, 4.73117933e+01, 3.80490587e+01,\n",
       "       2.98120456e+01, 2.26007541e+01, 1.64151841e+01, 1.12553355e+01,\n",
       "       7.12120851e+00, 4.01280300e+00, 1.93011899e+00, 8.73156488e-01,\n",
       "       8.41915494e-01, 1.83639601e+00, 3.85659803e+00, 6.90252155e+00,\n",
       "       1.09741666e+01, 1.60715331e+01, 2.21946212e+01, 2.93434307e+01,\n",
       "       3.75179618e+01, 4.67182144e+01, 5.69441884e+01, 6.81958840e+01,\n",
       "       8.04733011e+01, 9.37764397e+01, 1.08105300e+02, 1.23459881e+02,\n",
       "       1.39840185e+02, 1.57246209e+02, 1.75677955e+02, 1.95135423e+02,\n",
       "       2.15618612e+02, 2.37127523e+02, 2.59662155e+02, 2.83222509e+02,\n",
       "       3.07808584e+02, 3.33420380e+02, 3.60057899e+02, 3.87721138e+02,\n",
       "       4.16410100e+02, 4.46124782e+02, 4.76865186e+02, 5.08631312e+02,\n",
       "       5.41423159e+02, 5.75240728e+02, 6.10084018e+02, 6.45953030e+02,\n",
       "       6.82847763e+02, 7.20768218e+02, 7.59714395e+02, 7.99686292e+02,\n",
       "       8.40683912e+02, 8.82707252e+02, 9.25756315e+02, 9.69831099e+02,\n",
       "       1.01493160e+03, 1.06105783e+03, 1.10820978e+03, 1.15638745e+03,\n",
       "       1.20559084e+03, 1.25581995e+03, 1.30707479e+03, 1.35935534e+03])"
      ]
     },
     "execution_count": 93,
     "metadata": {},
     "output_type": "execute_result"
    }
   ],
   "source": [
    "# now we can evaluate the expression at all points at once\n",
    "\n",
    "output = lambdified_expression(points)\n",
    "output"
   ]
  },
  {
   "cell_type": "markdown",
   "id": "1424fbe0",
   "metadata": {},
   "source": [
    "This is treated simply as a numpy array, so we can use it with all the numpy command and even the matplotlib commands"
   ]
  },
  {
   "cell_type": "code",
   "execution_count": 97,
   "id": "17b9084f",
   "metadata": {},
   "outputs": [
    {
     "data": {
      "image/png": "[encoded data removed]",
      "text/plain": [
       "<Figure size 432x288 with 1 Axes>"
      ]
     },
     "metadata": {
      "needs_background": "light"
     },
     "output_type": "display_data"
    }
   ],
   "source": [
    "# we can plot the values with matplotlib\n",
    "\n",
    "plt.plot(points, output)\n",
    "plt.title('Parabola')\n",
    "plt.show()"
   ]
  }
 ],
 "metadata": {
  "kernelspec": {
   "display_name": "Python 3",
   "language": "python",
   "name": "python3"
  },
  "language_info": {
   "codemirror_mode": {
    "name": "ipython",
    "version": 3
   },
   "file_extension": ".py",
   "mimetype": "text/x-python",
   "name": "python",
   "nbconvert_exporter": "python",
   "pygments_lexer": "ipython3",
   "version": "3.10.2"
  }
 },
 "nbformat": 4,
 "nbformat_minor": 5
}
