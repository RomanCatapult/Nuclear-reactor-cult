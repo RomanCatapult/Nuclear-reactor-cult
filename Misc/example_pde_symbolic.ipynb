{
 "cells": [
  {
   "cell_type": "markdown",
   "metadata": {},
   "source": [
    "Partial diff equation: $$x\\cdot u_x - 3y\\cdot u_y = 2x^2 \\cdot u$$\n",
    "\n",
    "Where:\n",
    "* $ \\\\ u = u (x.y) $\n",
    "\n",
    "* $ \\\\ u_x = \\frac{\\partial u}{\\partial x} $\n",
    "\n",
    "* $ \\\\ u_y = \\frac{\\partial u}{\\partial y} $\n"
   ]
  },
  {
   "cell_type": "code",
   "execution_count": 1,
   "metadata": {},
   "outputs": [
    {
     "data": {
      "text/latex": [
       "$\\displaystyle u{\\left(x,y \\right)} = F{\\left(x^{3} y \\right)} e^{x^{2}}$"
      ],
      "text/plain": [
       "Eq(u(x, y), F(x**3*y)*exp(x**2))"
      ]
     },
     "execution_count": 1,
     "metadata": {},
     "output_type": "execute_result"
    }
   ],
   "source": [
    "import sympy as sp\n",
    "\n",
    "x,y = sp.symbols('x y')   # initialize x and y as symbolic variables\n",
    "u = sp.Function('u')(x,y)   # define left hand side of the equation\n",
    "\n",
    "pde = sp.Eq(x*sp.diff(u,x)-3*y*sp.diff(u,y), 2*x**2*u)\n",
    "solution = sp.pdsolve(pde)\n",
    "\n",
    "solution"
   ]
  },
  {
   "cell_type": "code",
   "execution_count": 6,
   "metadata": {},
   "outputs": [
    {
     "data": {
      "text/latex": [
       "$\\displaystyle F{\\left(x^{3} y \\right)} e^{x^{2}}$"
      ],
      "text/plain": [
       "F(x**3*y)*exp(x**2)"
      ]
     },
     "execution_count": 6,
     "metadata": {},
     "output_type": "execute_result"
    }
   ],
   "source": [
    "solution.rhs"
   ]
  },
  {
   "cell_type": "code",
   "execution_count": null,
   "metadata": {},
   "outputs": [],
   "source": []
  }
 ],
 "metadata": {
  "kernelspec": {
   "display_name": "base",
   "language": "python",
   "name": "python3"
  },
  "language_info": {
   "codemirror_mode": {
    "name": "ipython",
    "version": 3
   },
   "file_extension": ".py",
   "mimetype": "text/x-python",
   "name": "python",
   "nbconvert_exporter": "python",
   "pygments_lexer": "ipython3",
   "version": "3.9.7"
  }
 },
 "nbformat": 4,
 "nbformat_minor": 2
}
